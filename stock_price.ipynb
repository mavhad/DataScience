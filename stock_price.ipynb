{
  "nbformat": 4,
  "nbformat_minor": 0,
  "metadata": {
    "language_info": {
      "codemirror_mode": {
        "name": "ipython",
        "version": 3
      },
      "file_extension": ".py",
      "mimetype": "text/x-python",
      "name": "python",
      "nbconvert_exporter": "python",
      "pygments_lexer": "ipython3",
      "version": "3.7.3"
    },
    "orig_nbformat": 2,
    "kernelspec": {
      "name": "python3",
      "display_name": "Python 3.7.3 64-bit",
      "metadata": {
        "interpreter": {
          "hash": "2e7551559daae743fd5a6b2b4bfe97d8cf6c753cb1c0fa8928f6e7ddcebdb42f"
        }
      }
    },
    "colab": {
      "name": "stock_price.ipynb",
      "provenance": [],
      "collapsed_sections": []
    }
  },
  "cells": [
    {
      "cell_type": "code",
      "metadata": {
        "id": "WhBGvGTW3c_P"
      },
      "source": [
        "import pandas as pd"
      ],
      "execution_count": null,
      "outputs": []
    },
    {
      "cell_type": "code",
      "metadata": {
        "colab": {
          "base_uri": "https://localhost:8080/",
          "height": 419
        },
        "id": "mFvxjxzA3c_X",
        "outputId": "182819ba-e95f-4191-aa0b-e94ff6e57e97"
      },
      "source": [
        "predict = pd.read_csv(\"stock price data.csv\")\n",
        "predict"
      ],
      "execution_count": null,
      "outputs": [
        {
          "output_type": "execute_result",
          "data": {
            "text/html": [
              "<div>\n",
              "<style scoped>\n",
              "    .dataframe tbody tr th:only-of-type {\n",
              "        vertical-align: middle;\n",
              "    }\n",
              "\n",
              "    .dataframe tbody tr th {\n",
              "        vertical-align: top;\n",
              "    }\n",
              "\n",
              "    .dataframe thead th {\n",
              "        text-align: right;\n",
              "    }\n",
              "</style>\n",
              "<table border=\"1\" class=\"dataframe\">\n",
              "  <thead>\n",
              "    <tr style=\"text-align: right;\">\n",
              "      <th></th>\n",
              "      <th>Date</th>\n",
              "      <th>Open</th>\n",
              "      <th>High</th>\n",
              "      <th>Low</th>\n",
              "      <th>Last</th>\n",
              "      <th>Close</th>\n",
              "      <th>Total Trade Quantity</th>\n",
              "      <th>Turnover (Lacs)</th>\n",
              "    </tr>\n",
              "  </thead>\n",
              "  <tbody>\n",
              "    <tr>\n",
              "      <th>0</th>\n",
              "      <td>9/28/2018</td>\n",
              "      <td>234.05</td>\n",
              "      <td>235.95</td>\n",
              "      <td>230.20</td>\n",
              "      <td>233.50</td>\n",
              "      <td>233.75</td>\n",
              "      <td>3069914</td>\n",
              "      <td>7162.35</td>\n",
              "    </tr>\n",
              "    <tr>\n",
              "      <th>1</th>\n",
              "      <td>9/27/2018</td>\n",
              "      <td>234.55</td>\n",
              "      <td>236.80</td>\n",
              "      <td>231.10</td>\n",
              "      <td>233.80</td>\n",
              "      <td>233.25</td>\n",
              "      <td>5082859</td>\n",
              "      <td>11859.95</td>\n",
              "    </tr>\n",
              "    <tr>\n",
              "      <th>2</th>\n",
              "      <td>9/26/2018</td>\n",
              "      <td>240.00</td>\n",
              "      <td>240.00</td>\n",
              "      <td>232.50</td>\n",
              "      <td>235.00</td>\n",
              "      <td>234.25</td>\n",
              "      <td>2240909</td>\n",
              "      <td>5248.60</td>\n",
              "    </tr>\n",
              "    <tr>\n",
              "      <th>3</th>\n",
              "      <td>9/25/2018</td>\n",
              "      <td>233.30</td>\n",
              "      <td>236.75</td>\n",
              "      <td>232.00</td>\n",
              "      <td>236.25</td>\n",
              "      <td>236.10</td>\n",
              "      <td>2349368</td>\n",
              "      <td>5503.90</td>\n",
              "    </tr>\n",
              "    <tr>\n",
              "      <th>4</th>\n",
              "      <td>9/24/2018</td>\n",
              "      <td>233.55</td>\n",
              "      <td>239.20</td>\n",
              "      <td>230.75</td>\n",
              "      <td>234.00</td>\n",
              "      <td>233.30</td>\n",
              "      <td>3423509</td>\n",
              "      <td>7999.55</td>\n",
              "    </tr>\n",
              "    <tr>\n",
              "      <th>...</th>\n",
              "      <td>...</td>\n",
              "      <td>...</td>\n",
              "      <td>...</td>\n",
              "      <td>...</td>\n",
              "      <td>...</td>\n",
              "      <td>...</td>\n",
              "      <td>...</td>\n",
              "      <td>...</td>\n",
              "    </tr>\n",
              "    <tr>\n",
              "      <th>2030</th>\n",
              "      <td>7/27/2010</td>\n",
              "      <td>117.60</td>\n",
              "      <td>119.50</td>\n",
              "      <td>112.00</td>\n",
              "      <td>118.80</td>\n",
              "      <td>118.65</td>\n",
              "      <td>586100</td>\n",
              "      <td>694.98</td>\n",
              "    </tr>\n",
              "    <tr>\n",
              "      <th>2031</th>\n",
              "      <td>7/26/2010</td>\n",
              "      <td>120.10</td>\n",
              "      <td>121.00</td>\n",
              "      <td>117.10</td>\n",
              "      <td>117.10</td>\n",
              "      <td>117.60</td>\n",
              "      <td>658440</td>\n",
              "      <td>780.01</td>\n",
              "    </tr>\n",
              "    <tr>\n",
              "      <th>2032</th>\n",
              "      <td>7/23/2010</td>\n",
              "      <td>121.80</td>\n",
              "      <td>121.95</td>\n",
              "      <td>120.25</td>\n",
              "      <td>120.35</td>\n",
              "      <td>120.65</td>\n",
              "      <td>281312</td>\n",
              "      <td>340.31</td>\n",
              "    </tr>\n",
              "    <tr>\n",
              "      <th>2033</th>\n",
              "      <td>7/22/2010</td>\n",
              "      <td>120.30</td>\n",
              "      <td>122.00</td>\n",
              "      <td>120.25</td>\n",
              "      <td>120.75</td>\n",
              "      <td>120.90</td>\n",
              "      <td>293312</td>\n",
              "      <td>355.17</td>\n",
              "    </tr>\n",
              "    <tr>\n",
              "      <th>2034</th>\n",
              "      <td>7/21/2010</td>\n",
              "      <td>122.10</td>\n",
              "      <td>123.00</td>\n",
              "      <td>121.05</td>\n",
              "      <td>121.10</td>\n",
              "      <td>121.55</td>\n",
              "      <td>658666</td>\n",
              "      <td>803.56</td>\n",
              "    </tr>\n",
              "  </tbody>\n",
              "</table>\n",
              "<p>2035 rows × 8 columns</p>\n",
              "</div>"
            ],
            "text/plain": [
              "           Date           Open  ...     Total Trade Quantity    Turnover (Lacs)\n",
              "0     9/28/2018         234.05  ...                  3069914            7162.35\n",
              "1     9/27/2018         234.55  ...                  5082859           11859.95\n",
              "2     9/26/2018         240.00  ...                  2240909            5248.60\n",
              "3     9/25/2018         233.30  ...                  2349368            5503.90\n",
              "4     9/24/2018         233.55  ...                  3423509            7999.55\n",
              "...         ...            ...  ...                      ...                ...\n",
              "2030  7/27/2010         117.60  ...                   586100             694.98\n",
              "2031  7/26/2010         120.10  ...                   658440             780.01\n",
              "2032  7/23/2010         121.80  ...                   281312             340.31\n",
              "2033  7/22/2010         120.30  ...                   293312             355.17\n",
              "2034  7/21/2010         122.10  ...                   658666             803.56\n",
              "\n",
              "[2035 rows x 8 columns]"
            ]
          },
          "metadata": {},
          "execution_count": 2
        }
      ]
    },
    {
      "cell_type": "code",
      "metadata": {
        "colab": {
          "base_uri": "https://localhost:8080/",
          "height": 297
        },
        "id": "Sy82dnDl3c_b",
        "outputId": "1df6ff7f-2d16-4257-ac9f-8e2cdd750d81"
      },
      "source": [
        "predict.describe()"
      ],
      "execution_count": null,
      "outputs": [
        {
          "output_type": "execute_result",
          "data": {
            "text/html": [
              "<div>\n",
              "<style scoped>\n",
              "    .dataframe tbody tr th:only-of-type {\n",
              "        vertical-align: middle;\n",
              "    }\n",
              "\n",
              "    .dataframe tbody tr th {\n",
              "        vertical-align: top;\n",
              "    }\n",
              "\n",
              "    .dataframe thead th {\n",
              "        text-align: right;\n",
              "    }\n",
              "</style>\n",
              "<table border=\"1\" class=\"dataframe\">\n",
              "  <thead>\n",
              "    <tr style=\"text-align: right;\">\n",
              "      <th></th>\n",
              "      <th>Open</th>\n",
              "      <th>High</th>\n",
              "      <th>Low</th>\n",
              "      <th>Last</th>\n",
              "      <th>Close</th>\n",
              "      <th>Total Trade Quantity</th>\n",
              "      <th>Turnover (Lacs)</th>\n",
              "    </tr>\n",
              "  </thead>\n",
              "  <tbody>\n",
              "    <tr>\n",
              "      <th>count</th>\n",
              "      <td>2035.000000</td>\n",
              "      <td>2035.000000</td>\n",
              "      <td>2035.000000</td>\n",
              "      <td>2035.000000</td>\n",
              "      <td>2035.00000</td>\n",
              "      <td>2.035000e+03</td>\n",
              "      <td>2035.000000</td>\n",
              "    </tr>\n",
              "    <tr>\n",
              "      <th>mean</th>\n",
              "      <td>149.713735</td>\n",
              "      <td>151.992826</td>\n",
              "      <td>147.293931</td>\n",
              "      <td>149.474251</td>\n",
              "      <td>149.45027</td>\n",
              "      <td>2.335681e+06</td>\n",
              "      <td>3899.980565</td>\n",
              "    </tr>\n",
              "    <tr>\n",
              "      <th>std</th>\n",
              "      <td>48.664509</td>\n",
              "      <td>49.413109</td>\n",
              "      <td>47.931958</td>\n",
              "      <td>48.732570</td>\n",
              "      <td>48.71204</td>\n",
              "      <td>2.091778e+06</td>\n",
              "      <td>4570.767877</td>\n",
              "    </tr>\n",
              "    <tr>\n",
              "      <th>min</th>\n",
              "      <td>81.100000</td>\n",
              "      <td>82.800000</td>\n",
              "      <td>80.000000</td>\n",
              "      <td>81.000000</td>\n",
              "      <td>80.95000</td>\n",
              "      <td>3.961000e+04</td>\n",
              "      <td>37.040000</td>\n",
              "    </tr>\n",
              "    <tr>\n",
              "      <th>25%</th>\n",
              "      <td>120.025000</td>\n",
              "      <td>122.100000</td>\n",
              "      <td>118.300000</td>\n",
              "      <td>120.075000</td>\n",
              "      <td>120.05000</td>\n",
              "      <td>1.146444e+06</td>\n",
              "      <td>1427.460000</td>\n",
              "    </tr>\n",
              "    <tr>\n",
              "      <th>50%</th>\n",
              "      <td>141.500000</td>\n",
              "      <td>143.400000</td>\n",
              "      <td>139.600000</td>\n",
              "      <td>141.100000</td>\n",
              "      <td>141.25000</td>\n",
              "      <td>1.783456e+06</td>\n",
              "      <td>2512.030000</td>\n",
              "    </tr>\n",
              "    <tr>\n",
              "      <th>75%</th>\n",
              "      <td>157.175000</td>\n",
              "      <td>159.400000</td>\n",
              "      <td>155.150000</td>\n",
              "      <td>156.925000</td>\n",
              "      <td>156.90000</td>\n",
              "      <td>2.813594e+06</td>\n",
              "      <td>4539.015000</td>\n",
              "    </tr>\n",
              "    <tr>\n",
              "      <th>max</th>\n",
              "      <td>327.700000</td>\n",
              "      <td>328.750000</td>\n",
              "      <td>321.650000</td>\n",
              "      <td>325.950000</td>\n",
              "      <td>325.75000</td>\n",
              "      <td>2.919102e+07</td>\n",
              "      <td>55755.080000</td>\n",
              "    </tr>\n",
              "  </tbody>\n",
              "</table>\n",
              "</div>"
            ],
            "text/plain": [
              "                Open         High  ...     Total Trade Quantity    Turnover (Lacs)\n",
              "count    2035.000000  2035.000000  ...             2.035000e+03        2035.000000\n",
              "mean      149.713735   151.992826  ...             2.335681e+06        3899.980565\n",
              "std        48.664509    49.413109  ...             2.091778e+06        4570.767877\n",
              "min        81.100000    82.800000  ...             3.961000e+04          37.040000\n",
              "25%       120.025000   122.100000  ...             1.146444e+06        1427.460000\n",
              "50%       141.500000   143.400000  ...             1.783456e+06        2512.030000\n",
              "75%       157.175000   159.400000  ...             2.813594e+06        4539.015000\n",
              "max       327.700000   328.750000  ...             2.919102e+07       55755.080000\n",
              "\n",
              "[8 rows x 7 columns]"
            ]
          },
          "metadata": {},
          "execution_count": 3
        }
      ]
    },
    {
      "cell_type": "code",
      "metadata": {
        "colab": {
          "base_uri": "https://localhost:8080/"
        },
        "id": "b7Eoy18j3c_c",
        "outputId": "40d6ffe6-ec5e-4342-9a33-66175a7e4438"
      },
      "source": [
        "predict.shape"
      ],
      "execution_count": null,
      "outputs": [
        {
          "output_type": "execute_result",
          "data": {
            "text/plain": [
              "(2035, 8)"
            ]
          },
          "metadata": {},
          "execution_count": 4
        }
      ]
    },
    {
      "cell_type": "code",
      "metadata": {
        "colab": {
          "base_uri": "https://localhost:8080/",
          "height": 1000
        },
        "id": "wlxy55EX3c_d",
        "outputId": "14f1633c-f078-4c98-9fa7-53cfb1a9e659"
      },
      "source": [
        "predict.hist(bins=60, figsize=(20, 15))\n"
      ],
      "execution_count": null,
      "outputs": [
        {
          "output_type": "execute_result",
          "data": {
            "text/plain": [
              "array([[<matplotlib.axes._subplots.AxesSubplot object at 0x7f810da66690>,\n",
              "        <matplotlib.axes._subplots.AxesSubplot object at 0x7f810da3fc50>,\n",
              "        <matplotlib.axes._subplots.AxesSubplot object at 0x7f810da05310>],\n",
              "       [<matplotlib.axes._subplots.AxesSubplot object at 0x7f810d9ba990>,\n",
              "        <matplotlib.axes._subplots.AxesSubplot object at 0x7f810d970a50>,\n",
              "        <matplotlib.axes._subplots.AxesSubplot object at 0x7f810d932110>],\n",
              "       [<matplotlib.axes._subplots.AxesSubplot object at 0x7f810d8e7810>,\n",
              "        <matplotlib.axes._subplots.AxesSubplot object at 0x7f810d91ddd0>,\n",
              "        <matplotlib.axes._subplots.AxesSubplot object at 0x7f810d91de10>]],\n",
              "      dtype=object)"
            ]
          },
          "metadata": {},
          "execution_count": 5
        },
        {
          "output_type": "display_data",
          "data": {
            "image/png": "[encoded data removed]",
            "text/plain": [
              "<Figure size 1440x1080 with 9 Axes>"
            ]
          },
          "metadata": {
            "needs_background": "light"
          }
        }
      ]
    },
    {
      "cell_type": "code",
      "metadata": {
        "colab": {
          "base_uri": "https://localhost:8080/",
          "height": 204
        },
        "id": "iJ1GIbpY3c_e",
        "outputId": "89b33607-15e2-4ec8-c9d1-fb83c5ead6c9"
      },
      "source": [
        "predict.head()"
      ],
      "execution_count": null,
      "outputs": [
        {
          "output_type": "execute_result",
          "data": {
            "text/html": [
              "<div>\n",
              "<style scoped>\n",
              "    .dataframe tbody tr th:only-of-type {\n",
              "        vertical-align: middle;\n",
              "    }\n",
              "\n",
              "    .dataframe tbody tr th {\n",
              "        vertical-align: top;\n",
              "    }\n",
              "\n",
              "    .dataframe thead th {\n",
              "        text-align: right;\n",
              "    }\n",
              "</style>\n",
              "<table border=\"1\" class=\"dataframe\">\n",
              "  <thead>\n",
              "    <tr style=\"text-align: right;\">\n",
              "      <th></th>\n",
              "      <th>Date</th>\n",
              "      <th>Open</th>\n",
              "      <th>High</th>\n",
              "      <th>Low</th>\n",
              "      <th>Last</th>\n",
              "      <th>Close</th>\n",
              "      <th>Total Trade Quantity</th>\n",
              "      <th>Turnover (Lacs)</th>\n",
              "    </tr>\n",
              "  </thead>\n",
              "  <tbody>\n",
              "    <tr>\n",
              "      <th>0</th>\n",
              "      <td>9/28/2018</td>\n",
              "      <td>234.05</td>\n",
              "      <td>235.95</td>\n",
              "      <td>230.20</td>\n",
              "      <td>233.50</td>\n",
              "      <td>233.75</td>\n",
              "      <td>3069914</td>\n",
              "      <td>7162.35</td>\n",
              "    </tr>\n",
              "    <tr>\n",
              "      <th>1</th>\n",
              "      <td>9/27/2018</td>\n",
              "      <td>234.55</td>\n",
              "      <td>236.80</td>\n",
              "      <td>231.10</td>\n",
              "      <td>233.80</td>\n",
              "      <td>233.25</td>\n",
              "      <td>5082859</td>\n",
              "      <td>11859.95</td>\n",
              "    </tr>\n",
              "    <tr>\n",
              "      <th>2</th>\n",
              "      <td>9/26/2018</td>\n",
              "      <td>240.00</td>\n",
              "      <td>240.00</td>\n",
              "      <td>232.50</td>\n",
              "      <td>235.00</td>\n",
              "      <td>234.25</td>\n",
              "      <td>2240909</td>\n",
              "      <td>5248.60</td>\n",
              "    </tr>\n",
              "    <tr>\n",
              "      <th>3</th>\n",
              "      <td>9/25/2018</td>\n",
              "      <td>233.30</td>\n",
              "      <td>236.75</td>\n",
              "      <td>232.00</td>\n",
              "      <td>236.25</td>\n",
              "      <td>236.10</td>\n",
              "      <td>2349368</td>\n",
              "      <td>5503.90</td>\n",
              "    </tr>\n",
              "    <tr>\n",
              "      <th>4</th>\n",
              "      <td>9/24/2018</td>\n",
              "      <td>233.55</td>\n",
              "      <td>239.20</td>\n",
              "      <td>230.75</td>\n",
              "      <td>234.00</td>\n",
              "      <td>233.30</td>\n",
              "      <td>3423509</td>\n",
              "      <td>7999.55</td>\n",
              "    </tr>\n",
              "  </tbody>\n",
              "</table>\n",
              "</div>"
            ],
            "text/plain": [
              "        Date           Open  ...     Total Trade Quantity    Turnover (Lacs)\n",
              "0  9/28/2018         234.05  ...                  3069914            7162.35\n",
              "1  9/27/2018         234.55  ...                  5082859           11859.95\n",
              "2  9/26/2018         240.00  ...                  2240909            5248.60\n",
              "3  9/25/2018         233.30  ...                  2349368            5503.90\n",
              "4  9/24/2018         233.55  ...                  3423509            7999.55\n",
              "\n",
              "[5 rows x 8 columns]"
            ]
          },
          "metadata": {},
          "execution_count": 6
        }
      ]
    },
    {
      "cell_type": "code",
      "metadata": {
        "colab": {
          "base_uri": "https://localhost:8080/"
        },
        "id": "TczBDke33c_f",
        "outputId": "1e60bb71-dcd8-4353-b366-55d95d1af1d1"
      },
      "source": [
        "predict.columns"
      ],
      "execution_count": null,
      "outputs": [
        {
          "output_type": "execute_result",
          "data": {
            "text/plain": [
              "Index(['Date', '         Open', '    High', '     Low', '    Last',\n",
              "       '    Close', '   Total Trade Quantity', '  Turnover (Lacs)'],\n",
              "      dtype='object')"
            ]
          },
          "metadata": {},
          "execution_count": 7
        }
      ]
    },
    {
      "cell_type": "code",
      "metadata": {
        "colab": {
          "base_uri": "https://localhost:8080/"
        },
        "id": "HyYwPRYg3c_g",
        "outputId": "48c917cc-d791-4b67-d349-20e54eb0dac8"
      },
      "source": [
        "df = predict.reset_index()['    Close']\n",
        "df.shape"
      ],
      "execution_count": null,
      "outputs": [
        {
          "output_type": "execute_result",
          "data": {
            "text/plain": [
              "(2035,)"
            ]
          },
          "metadata": {},
          "execution_count": 8
        }
      ]
    },
    {
      "cell_type": "code",
      "metadata": {
        "colab": {
          "base_uri": "https://localhost:8080/",
          "height": 282
        },
        "id": "RrmgOwXl3c_h",
        "outputId": "4cd81cd7-7933-457f-e3c0-a09c10af9687"
      },
      "source": [
        "import matplotlib.pyplot as plt\n",
        "plt.plot(df)"
      ],
      "execution_count": null,
      "outputs": [
        {
          "output_type": "execute_result",
          "data": {
            "text/plain": [
              "[<matplotlib.lines.Line2D at 0x7f810cce7350>]"
            ]
          },
          "metadata": {},
          "execution_count": 9
        },
        {
          "output_type": "display_data",
          "data": {
            "image/png": "[encoded data removed]",
            "text/plain": [
              "<Figure size 432x288 with 1 Axes>"
            ]
          },
          "metadata": {
            "needs_background": "light"
          }
        }
      ]
    },
    {
      "cell_type": "code",
      "metadata": {
        "id": "dMnVX3iM3c_i"
      },
      "source": [
        "###LMST are sensetive to the scale of the data, so we apply minmax scaler\n",
        "import numpy as np"
      ],
      "execution_count": null,
      "outputs": []
    },
    {
      "cell_type": "code",
      "metadata": {
        "id": "fudFwN0V3c_j"
      },
      "source": [
        "from sklearn.preprocessing import MinMaxScaler\n",
        "scaler=MinMaxScaler(feature_range=(0,1))\n",
        "df = scaler.fit_transform(np.array(df).reshape(-1,1))"
      ],
      "execution_count": null,
      "outputs": []
    },
    {
      "cell_type": "code",
      "metadata": {
        "colab": {
          "base_uri": "https://localhost:8080/"
        },
        "id": "c0RWo7LJ3c_j",
        "outputId": "2bd526ab-56e7-4894-be50-fb886530a069"
      },
      "source": [
        "print(df)"
      ],
      "execution_count": null,
      "outputs": [
        {
          "output_type": "stream",
          "name": "stdout",
          "text": [
            "[[0.62418301]\n",
            " [0.62214052]\n",
            " [0.62622549]\n",
            " ...\n",
            " [0.1621732 ]\n",
            " [0.16319444]\n",
            " [0.16584967]]\n"
          ]
        }
      ]
    },
    {
      "cell_type": "code",
      "metadata": {
        "colab": {
          "base_uri": "https://localhost:8080/"
        },
        "id": "-EHdjiN13c_k",
        "outputId": "75f7883a-488b-406e-9e91-279ef4332d15"
      },
      "source": [
        "df.shape"
      ],
      "execution_count": null,
      "outputs": [
        {
          "output_type": "execute_result",
          "data": {
            "text/plain": [
              "(2035, 1)"
            ]
          },
          "metadata": {},
          "execution_count": 13
        }
      ]
    },
    {
      "cell_type": "code",
      "metadata": {
        "id": "rgT5OO6S3c_l"
      },
      "source": [
        "##Splitting data sets into train and test split\n",
        "training_size=int(len(df)*0.65)\n",
        "test_size=len(df)-training_size\n",
        "train_data,test_data=df[0:training_size,:],df[training_size:len(df),:1]"
      ],
      "execution_count": null,
      "outputs": []
    },
    {
      "cell_type": "code",
      "metadata": {
        "colab": {
          "base_uri": "https://localhost:8080/"
        },
        "id": "z146k_2C3c_l",
        "outputId": "3aa64b08-a877-478b-c48f-1cd581288d4a"
      },
      "source": [
        "training_size,test_size"
      ],
      "execution_count": null,
      "outputs": [
        {
          "output_type": "execute_result",
          "data": {
            "text/plain": [
              "(1322, 713)"
            ]
          },
          "metadata": {},
          "execution_count": 15
        }
      ]
    },
    {
      "cell_type": "code",
      "metadata": {
        "colab": {
          "base_uri": "https://localhost:8080/"
        },
        "id": "t-8CtOfi3c_m",
        "outputId": "3679e88c-424a-4fad-a33a-dbca510cd545"
      },
      "source": [
        "len(train_data), len(test_data)"
      ],
      "execution_count": null,
      "outputs": [
        {
          "output_type": "execute_result",
          "data": {
            "text/plain": [
              "(1322, 713)"
            ]
          },
          "metadata": {},
          "execution_count": 16
        }
      ]
    },
    {
      "cell_type": "code",
      "metadata": {
        "colab": {
          "base_uri": "https://localhost:8080/"
        },
        "id": "nAAAjcCA3c_m",
        "outputId": "acd073a8-a3b6-4a4c-8bf3-a8ab193e3eae"
      },
      "source": [
        "train_data"
      ],
      "execution_count": null,
      "outputs": [
        {
          "output_type": "execute_result",
          "data": {
            "text/plain": [
              "array([[0.62418301],\n",
              "       [0.62214052],\n",
              "       [0.62622549],\n",
              "       ...,\n",
              "       [0.25347222],\n",
              "       [0.26041667],\n",
              "       [0.2563317 ]])"
            ]
          },
          "metadata": {},
          "execution_count": 17
        }
      ]
    },
    {
      "cell_type": "code",
      "metadata": {
        "id": "LWkJ0R_P3c_n"
      },
      "source": [
        "import numpy\n",
        "#convert an array of values into a dataset matrix\n",
        "def create_dataset(dataset, time_step=1):\n",
        "    dataX,dataY = [], []\n",
        "    for i in range(len(dataset)-time_step-1):\n",
        "        a = dataset[i:(i+time_step),0]\n",
        "        dataX.append(a)\n",
        "        dataY.append(dataset[i + time_step, 0])\n",
        "    return numpy.array(dataX),numpy.array(dataY)    "
      ],
      "execution_count": null,
      "outputs": []
    },
    {
      "cell_type": "code",
      "metadata": {
        "id": "8dDE6ogu3c_o"
      },
      "source": [
        "##reshape into x=t,t+1,t+2,t+3 and y=t+4\n",
        "time_step = 100\n",
        "X_train, Y_train = create_dataset(train_data, time_step)\n",
        "X_test, Y_test = create_dataset(test_data, time_step)\n"
      ],
      "execution_count": null,
      "outputs": []
    },
    {
      "cell_type": "code",
      "metadata": {
        "colab": {
          "base_uri": "https://localhost:8080/"
        },
        "id": "rKZ5OIgc3c_p",
        "outputId": "27f0096c-8243-40b6-b923-bff8524e373d"
      },
      "source": [
        "print(X_train.shape),print(Y_train.shape)"
      ],
      "execution_count": null,
      "outputs": [
        {
          "output_type": "stream",
          "name": "stdout",
          "text": [
            "(1221, 100)\n",
            "(1221,)\n"
          ]
        },
        {
          "output_type": "execute_result",
          "data": {
            "text/plain": [
              "(None, None)"
            ]
          },
          "metadata": {},
          "execution_count": 20
        }
      ]
    },
    {
      "cell_type": "code",
      "metadata": {
        "colab": {
          "base_uri": "https://localhost:8080/"
        },
        "id": "VtBkQjK83c_p",
        "outputId": "1fca78fe-e309-407c-8f5b-0240c06c55c4"
      },
      "source": [
        "print(X_test.shape), print(Y_test.shape)"
      ],
      "execution_count": null,
      "outputs": [
        {
          "output_type": "stream",
          "name": "stdout",
          "text": [
            "(612, 100)\n",
            "(612,)\n"
          ]
        },
        {
          "output_type": "execute_result",
          "data": {
            "text/plain": [
              "(None, None)"
            ]
          },
          "metadata": {},
          "execution_count": 21
        }
      ]
    },
    {
      "cell_type": "code",
      "metadata": {
        "id": "95zfhoGx3c_q"
      },
      "source": [
        "#reshape input to be[sample, time steps,features] which is required for LSTM\n",
        "X_train =X_train.reshape(X_train.shape[0],X_train.shape[1], 1)\n",
        "X_test = X_test.reshape(X_test.shape[0],X_test.shape[1], 1)"
      ],
      "execution_count": null,
      "outputs": []
    },
    {
      "cell_type": "code",
      "metadata": {
        "id": "ArOwdZzI3c_r"
      },
      "source": [
        "##create the Stacked LSTM model\n",
        "from tensorflow.keras.models import Sequential\n",
        "from tensorflow.keras.layers import Dense\n",
        "from tensorflow.keras.layers import LSTM\n"
      ],
      "execution_count": null,
      "outputs": []
    },
    {
      "cell_type": "code",
      "metadata": {
        "id": "dlggeb073c_r"
      },
      "source": [
        "model=Sequential()\n",
        "model.add(LSTM(50,return_sequences=True,input_shape=(100,1)))\n",
        "model.add(LSTM(50,return_sequences=True))\n",
        "model.add(LSTM(50))\n",
        "model.add(Dense(1))\n",
        "model.compile(loss='mean_squared_error',optimizer='adam')\n"
      ],
      "execution_count": null,
      "outputs": []
    },
    {
      "cell_type": "code",
      "metadata": {
        "colab": {
          "base_uri": "https://localhost:8080/"
        },
        "id": "T4tt2Ix93c_s",
        "outputId": "ba276889-9baf-4014-a91c-62b33b80e0b1"
      },
      "source": [
        "model.summary()"
      ],
      "execution_count": null,
      "outputs": [
        {
          "output_type": "stream",
          "name": "stdout",
          "text": [
            "Model: \"sequential\"\n",
            "_________________________________________________________________\n",
            "Layer (type)                 Output Shape              Param #   \n",
            "=================================================================\n",
            "lstm (LSTM)                  (None, 100, 50)           10400     \n",
            "_________________________________________________________________\n",
            "lstm_1 (LSTM)                (None, 100, 50)           20200     \n",
            "_________________________________________________________________\n",
            "lstm_2 (LSTM)                (None, 50)                20200     \n",
            "_________________________________________________________________\n",
            "dense (Dense)                (None, 1)                 51        \n",
            "=================================================================\n",
            "Total params: 50,851\n",
            "Trainable params: 50,851\n",
            "Non-trainable params: 0\n",
            "_________________________________________________________________\n"
          ]
        }
      ]
    },
    {
      "cell_type": "code",
      "metadata": {
        "colab": {
          "base_uri": "https://localhost:8080/"
        },
        "id": "xU3bEoxe3c_s",
        "outputId": "4a6e0333-6ceb-40c8-b850-382a76f40594"
      },
      "source": [
        "model.fit(X_train,Y_train,validation_data=(X_test,Y_test),epochs=100,batch_size=64,verbose=1)"
      ],
      "execution_count": null,
      "outputs": [
        {
          "output_type": "stream",
          "name": "stdout",
          "text": [
            "Epoch 1/100\n",
            "20/20 [==============================] - 10s 268ms/step - loss: 0.0216 - val_loss: 0.0060\n",
            "Epoch 2/100\n",
            "20/20 [==============================] - 4s 199ms/step - loss: 0.0026 - val_loss: 7.3750e-04\n",
            "Epoch 3/100\n",
            "20/20 [==============================] - 4s 198ms/step - loss: 0.0017 - val_loss: 0.0012\n",
            "Epoch 4/100\n",
            "20/20 [==============================] - 4s 197ms/step - loss: 0.0015 - val_loss: 7.9494e-04\n",
            "Epoch 5/100\n",
            "20/20 [==============================] - 4s 196ms/step - loss: 0.0015 - val_loss: 0.0012\n",
            "Epoch 6/100\n",
            "20/20 [==============================] - 4s 197ms/step - loss: 0.0014 - val_loss: 0.0011\n",
            "Epoch 7/100\n",
            "20/20 [==============================] - 4s 199ms/step - loss: 0.0014 - val_loss: 8.0541e-04\n",
            "Epoch 8/100\n",
            "20/20 [==============================] - 4s 198ms/step - loss: 0.0013 - val_loss: 0.0012\n",
            "Epoch 9/100\n",
            "20/20 [==============================] - 4s 200ms/step - loss: 0.0014 - val_loss: 8.9035e-04\n",
            "Epoch 10/100\n",
            "20/20 [==============================] - 4s 198ms/step - loss: 0.0011 - val_loss: 9.0658e-04\n",
            "Epoch 11/100\n",
            "20/20 [==============================] - 4s 196ms/step - loss: 0.0011 - val_loss: 7.6271e-04\n",
            "Epoch 12/100\n",
            "20/20 [==============================] - 4s 198ms/step - loss: 0.0011 - val_loss: 8.2600e-04\n",
            "Epoch 13/100\n",
            "20/20 [==============================] - 4s 201ms/step - loss: 9.4518e-04 - val_loss: 9.7574e-04\n",
            "Epoch 14/100\n",
            "20/20 [==============================] - 4s 197ms/step - loss: 8.9423e-04 - val_loss: 8.0740e-04\n",
            "Epoch 15/100\n",
            "20/20 [==============================] - 4s 201ms/step - loss: 9.3551e-04 - val_loss: 5.9229e-04\n",
            "Epoch 16/100\n",
            "20/20 [==============================] - 4s 198ms/step - loss: 9.3201e-04 - val_loss: 0.0011\n",
            "Epoch 17/100\n",
            "20/20 [==============================] - 4s 204ms/step - loss: 9.3982e-04 - val_loss: 7.9902e-04\n",
            "Epoch 18/100\n",
            "20/20 [==============================] - 4s 203ms/step - loss: 8.1161e-04 - val_loss: 5.9660e-04\n",
            "Epoch 19/100\n",
            "20/20 [==============================] - 4s 200ms/step - loss: 0.0011 - val_loss: 5.9414e-04\n",
            "Epoch 20/100\n",
            "20/20 [==============================] - 4s 199ms/step - loss: 9.2756e-04 - val_loss: 6.5600e-04\n",
            "Epoch 21/100\n",
            "20/20 [==============================] - 4s 196ms/step - loss: 7.3475e-04 - val_loss: 5.7321e-04\n",
            "Epoch 22/100\n",
            "20/20 [==============================] - 4s 198ms/step - loss: 6.9268e-04 - val_loss: 6.7982e-04\n",
            "Epoch 23/100\n",
            "20/20 [==============================] - 4s 199ms/step - loss: 6.8246e-04 - val_loss: 7.4022e-04\n",
            "Epoch 24/100\n",
            "20/20 [==============================] - 4s 198ms/step - loss: 7.3207e-04 - val_loss: 5.4779e-04\n",
            "Epoch 25/100\n",
            "20/20 [==============================] - 4s 200ms/step - loss: 7.3959e-04 - val_loss: 5.4565e-04\n",
            "Epoch 26/100\n",
            "20/20 [==============================] - 4s 201ms/step - loss: 6.6670e-04 - val_loss: 9.4710e-04\n",
            "Epoch 27/100\n",
            "20/20 [==============================] - 4s 203ms/step - loss: 8.3907e-04 - val_loss: 6.4468e-04\n",
            "Epoch 28/100\n",
            "20/20 [==============================] - 4s 200ms/step - loss: 6.8123e-04 - val_loss: 6.4332e-04\n",
            "Epoch 29/100\n",
            "20/20 [==============================] - 4s 201ms/step - loss: 7.0983e-04 - val_loss: 0.0012\n",
            "Epoch 30/100\n",
            "20/20 [==============================] - 4s 200ms/step - loss: 0.0011 - val_loss: 0.0011\n",
            "Epoch 31/100\n",
            "20/20 [==============================] - 4s 198ms/step - loss: 6.5456e-04 - val_loss: 7.8170e-04\n",
            "Epoch 32/100\n",
            "20/20 [==============================] - 4s 199ms/step - loss: 8.2503e-04 - val_loss: 8.4735e-04\n",
            "Epoch 33/100\n",
            "20/20 [==============================] - 4s 206ms/step - loss: 7.1311e-04 - val_loss: 0.0016\n",
            "Epoch 34/100\n",
            "20/20 [==============================] - 4s 202ms/step - loss: 8.8898e-04 - val_loss: 7.5603e-04\n",
            "Epoch 35/100\n",
            "20/20 [==============================] - 4s 201ms/step - loss: 6.9196e-04 - val_loss: 4.8428e-04\n",
            "Epoch 36/100\n",
            "20/20 [==============================] - 4s 202ms/step - loss: 6.7002e-04 - val_loss: 6.9188e-04\n",
            "Epoch 37/100\n",
            "20/20 [==============================] - 4s 202ms/step - loss: 5.4629e-04 - val_loss: 6.7525e-04\n",
            "Epoch 38/100\n",
            "20/20 [==============================] - 4s 202ms/step - loss: 7.0981e-04 - val_loss: 7.4864e-04\n",
            "Epoch 39/100\n",
            "20/20 [==============================] - 4s 201ms/step - loss: 5.7739e-04 - val_loss: 5.8255e-04\n",
            "Epoch 40/100\n",
            "20/20 [==============================] - 4s 208ms/step - loss: 5.4446e-04 - val_loss: 5.5769e-04\n",
            "Epoch 41/100\n",
            "20/20 [==============================] - 4s 200ms/step - loss: 5.2380e-04 - val_loss: 4.5537e-04\n",
            "Epoch 42/100\n",
            "20/20 [==============================] - 4s 205ms/step - loss: 6.2649e-04 - val_loss: 5.0878e-04\n",
            "Epoch 43/100\n",
            "20/20 [==============================] - 4s 204ms/step - loss: 5.3045e-04 - val_loss: 7.5975e-04\n",
            "Epoch 44/100\n",
            "20/20 [==============================] - 4s 201ms/step - loss: 5.2458e-04 - val_loss: 4.6658e-04\n",
            "Epoch 45/100\n",
            "20/20 [==============================] - 4s 210ms/step - loss: 5.8644e-04 - val_loss: 4.8736e-04\n",
            "Epoch 46/100\n",
            "20/20 [==============================] - 4s 203ms/step - loss: 5.1355e-04 - val_loss: 5.7560e-04\n",
            "Epoch 47/100\n",
            "20/20 [==============================] - 4s 203ms/step - loss: 5.0169e-04 - val_loss: 4.6384e-04\n",
            "Epoch 48/100\n",
            "20/20 [==============================] - 4s 206ms/step - loss: 4.8099e-04 - val_loss: 6.2716e-04\n",
            "Epoch 49/100\n",
            "20/20 [==============================] - 4s 208ms/step - loss: 4.7447e-04 - val_loss: 5.7785e-04\n",
            "Epoch 50/100\n",
            "20/20 [==============================] - 4s 211ms/step - loss: 5.1705e-04 - val_loss: 5.6940e-04\n",
            "Epoch 51/100\n",
            "20/20 [==============================] - 4s 205ms/step - loss: 5.1480e-04 - val_loss: 4.5572e-04\n",
            "Epoch 52/100\n",
            "20/20 [==============================] - 4s 204ms/step - loss: 4.7850e-04 - val_loss: 4.0702e-04\n",
            "Epoch 53/100\n",
            "20/20 [==============================] - 4s 203ms/step - loss: 4.6004e-04 - val_loss: 4.8808e-04\n",
            "Epoch 54/100\n",
            "20/20 [==============================] - 4s 207ms/step - loss: 4.4442e-04 - val_loss: 5.0473e-04\n",
            "Epoch 55/100\n",
            "20/20 [==============================] - 4s 206ms/step - loss: 5.2076e-04 - val_loss: 5.4143e-04\n",
            "Epoch 56/100\n",
            "20/20 [==============================] - 4s 208ms/step - loss: 4.3447e-04 - val_loss: 4.5852e-04\n",
            "Epoch 57/100\n",
            "20/20 [==============================] - 4s 204ms/step - loss: 4.2811e-04 - val_loss: 4.8950e-04\n",
            "Epoch 58/100\n",
            "20/20 [==============================] - 4s 204ms/step - loss: 4.4051e-04 - val_loss: 4.6909e-04\n",
            "Epoch 59/100\n",
            "20/20 [==============================] - 4s 207ms/step - loss: 4.5268e-04 - val_loss: 4.3429e-04\n",
            "Epoch 60/100\n",
            "20/20 [==============================] - 4s 205ms/step - loss: 6.3259e-04 - val_loss: 6.3376e-04\n",
            "Epoch 61/100\n",
            "20/20 [==============================] - 4s 207ms/step - loss: 4.9571e-04 - val_loss: 3.4498e-04\n",
            "Epoch 62/100\n",
            "20/20 [==============================] - 4s 207ms/step - loss: 4.4782e-04 - val_loss: 3.9995e-04\n",
            "Epoch 63/100\n",
            "20/20 [==============================] - 4s 208ms/step - loss: 4.0675e-04 - val_loss: 6.7649e-04\n",
            "Epoch 64/100\n",
            "20/20 [==============================] - 4s 206ms/step - loss: 6.0232e-04 - val_loss: 5.6959e-04\n",
            "Epoch 65/100\n",
            "20/20 [==============================] - 4s 207ms/step - loss: 4.1916e-04 - val_loss: 3.7894e-04\n",
            "Epoch 66/100\n",
            "20/20 [==============================] - 4s 207ms/step - loss: 3.9636e-04 - val_loss: 3.2699e-04\n",
            "Epoch 67/100\n",
            "20/20 [==============================] - 4s 202ms/step - loss: 4.4804e-04 - val_loss: 3.6797e-04\n",
            "Epoch 68/100\n",
            "20/20 [==============================] - 4s 209ms/step - loss: 3.9013e-04 - val_loss: 3.2810e-04\n",
            "Epoch 69/100\n",
            "20/20 [==============================] - 4s 207ms/step - loss: 3.9426e-04 - val_loss: 4.2613e-04\n",
            "Epoch 70/100\n",
            "20/20 [==============================] - 4s 203ms/step - loss: 3.6897e-04 - val_loss: 3.4598e-04\n",
            "Epoch 71/100\n",
            "20/20 [==============================] - 4s 205ms/step - loss: 3.6998e-04 - val_loss: 4.8190e-04\n",
            "Epoch 72/100\n",
            "20/20 [==============================] - 4s 207ms/step - loss: 3.7268e-04 - val_loss: 3.9050e-04\n",
            "Epoch 73/100\n",
            "20/20 [==============================] - 4s 204ms/step - loss: 3.5100e-04 - val_loss: 3.1970e-04\n",
            "Epoch 74/100\n",
            "20/20 [==============================] - 4s 204ms/step - loss: 3.5227e-04 - val_loss: 3.9287e-04\n",
            "Epoch 75/100\n",
            "20/20 [==============================] - 4s 205ms/step - loss: 3.6601e-04 - val_loss: 3.3528e-04\n",
            "Epoch 76/100\n",
            "20/20 [==============================] - 4s 205ms/step - loss: 3.7851e-04 - val_loss: 2.8450e-04\n",
            "Epoch 77/100\n",
            "20/20 [==============================] - 4s 204ms/step - loss: 3.3620e-04 - val_loss: 2.7769e-04\n",
            "Epoch 78/100\n",
            "20/20 [==============================] - 4s 206ms/step - loss: 3.4586e-04 - val_loss: 2.7417e-04\n",
            "Epoch 79/100\n",
            "20/20 [==============================] - 4s 209ms/step - loss: 3.3106e-04 - val_loss: 2.9747e-04\n",
            "Epoch 80/100\n",
            "20/20 [==============================] - 4s 205ms/step - loss: 3.1765e-04 - val_loss: 2.8211e-04\n",
            "Epoch 81/100\n",
            "20/20 [==============================] - 4s 204ms/step - loss: 3.0459e-04 - val_loss: 2.6764e-04\n",
            "Epoch 82/100\n",
            "20/20 [==============================] - 4s 207ms/step - loss: 3.7213e-04 - val_loss: 3.1011e-04\n",
            "Epoch 83/100\n",
            "20/20 [==============================] - 4s 205ms/step - loss: 3.1361e-04 - val_loss: 3.2944e-04\n",
            "Epoch 84/100\n",
            "20/20 [==============================] - 4s 207ms/step - loss: 2.9612e-04 - val_loss: 3.3087e-04\n",
            "Epoch 85/100\n",
            "20/20 [==============================] - 4s 203ms/step - loss: 2.8770e-04 - val_loss: 2.5815e-04\n",
            "Epoch 86/100\n",
            "20/20 [==============================] - 4s 200ms/step - loss: 2.8028e-04 - val_loss: 2.5956e-04\n",
            "Epoch 87/100\n",
            "20/20 [==============================] - 4s 203ms/step - loss: 2.8637e-04 - val_loss: 2.7641e-04\n",
            "Epoch 88/100\n",
            "20/20 [==============================] - 4s 203ms/step - loss: 3.0432e-04 - val_loss: 2.3965e-04\n",
            "Epoch 89/100\n",
            "20/20 [==============================] - 4s 202ms/step - loss: 2.8598e-04 - val_loss: 2.7915e-04\n",
            "Epoch 90/100\n",
            "20/20 [==============================] - 4s 201ms/step - loss: 3.0620e-04 - val_loss: 2.3155e-04\n",
            "Epoch 91/100\n",
            "20/20 [==============================] - 4s 202ms/step - loss: 2.8829e-04 - val_loss: 2.2151e-04\n",
            "Epoch 92/100\n",
            "20/20 [==============================] - 4s 205ms/step - loss: 2.7418e-04 - val_loss: 2.1054e-04\n",
            "Epoch 93/100\n",
            "20/20 [==============================] - 4s 201ms/step - loss: 2.6355e-04 - val_loss: 2.2136e-04\n",
            "Epoch 94/100\n",
            "20/20 [==============================] - 4s 205ms/step - loss: 2.5699e-04 - val_loss: 2.3795e-04\n",
            "Epoch 95/100\n",
            "20/20 [==============================] - 4s 205ms/step - loss: 2.6290e-04 - val_loss: 3.1153e-04\n",
            "Epoch 96/100\n",
            "20/20 [==============================] - 4s 202ms/step - loss: 2.4964e-04 - val_loss: 2.1720e-04\n",
            "Epoch 97/100\n",
            "20/20 [==============================] - 4s 202ms/step - loss: 2.3850e-04 - val_loss: 3.4200e-04\n",
            "Epoch 98/100\n",
            "20/20 [==============================] - 4s 221ms/step - loss: 2.6721e-04 - val_loss: 3.7051e-04\n",
            "Epoch 99/100\n",
            "20/20 [==============================] - 5s 240ms/step - loss: 2.6641e-04 - val_loss: 2.7706e-04\n",
            "Epoch 100/100\n",
            "18/20 [==========================>...] - ETA: 0s - loss: 2.7131e-04"
          ]
        }
      ]
    },
    {
      "cell_type": "code",
      "metadata": {
        "id": "1Pk5jWuO3c_t"
      },
      "source": [
        "## Prediction and check performance metrics\n",
        "train_predict=model.predict(X_train)\n",
        "test_predict=model.predict(X_test)"
      ],
      "execution_count": null,
      "outputs": []
    },
    {
      "cell_type": "code",
      "metadata": {
        "id": "MBFTqhxT3c_t"
      },
      "source": [
        "#Transformback to original form\n",
        "train_predict=scaler.inverse_transform(train_predict)\n",
        "test_predict=scaler.inverse_transform(test_predict)"
      ],
      "execution_count": null,
      "outputs": []
    },
    {
      "cell_type": "code",
      "metadata": {
        "id": "5P1VPq3N4QAp"
      },
      "source": [
        "##calculate RMSE performance metrics\n",
        "import math\n",
        "from sklearn.metrics import mean_squared_error\n",
        "math.sqrt(mean_squared_error(Y_train,train_predict))\n"
      ],
      "execution_count": null,
      "outputs": []
    },
    {
      "cell_type": "code",
      "metadata": {
        "id": "bEmVtluU4t-c"
      },
      "source": [
        "#test data RMSE\n",
        "math.sqrt(mean_squared_error(Y_test,test_predict))"
      ],
      "execution_count": null,
      "outputs": []
    },
    {
      "cell_type": "code",
      "metadata": {
        "id": "A2K6ddd3523r"
      },
      "source": [
        "##Plotting\n",
        "#Shifting train predictions for plotting\n",
        "look_back=100\n",
        "trainpredictplot = numpy.empty_like(df)\n",
        "trainpredictplot[:, :] = numpy.nan\n",
        "trainpredictplot[len(train_predict)+(look_back*2)+1:len(df)-1, :] = test_predict\n",
        "#plot baseline and predictions\n",
        "plt.plot(scaler.inverse_transform(df))\n",
        "plt.plot(trainpredictplot)\n",
        "plt.show()"
      ],
      "execution_count": null,
      "outputs": []
    },
    {
      "cell_type": "code",
      "metadata": {
        "id": "z917Rg1qqfBP"
      },
      "source": [
        "len(test_data)"
      ],
      "execution_count": null,
      "outputs": []
    },
    {
      "cell_type": "code",
      "metadata": {
        "id": "TOv8LKziiSmR"
      },
      "source": [
        "X_input=test_data[613:].reshape(1,-1)\n",
        "X_input.shape"
      ],
      "execution_count": null,
      "outputs": []
    },
    {
      "cell_type": "code",
      "metadata": {
        "id": "zUF87DR9q8MU"
      },
      "source": [
        "temp_input=list(X_input)\n",
        "temp_input=temp_input[0].tolist()"
      ],
      "execution_count": null,
      "outputs": []
    },
    {
      "cell_type": "code",
      "metadata": {
        "id": "vIB_fmAprx27"
      },
      "source": [
        "temp_input"
      ],
      "execution_count": null,
      "outputs": []
    },
    {
      "cell_type": "code",
      "metadata": {
        "id": "TfsNMU7qrNiH",
        "colab": {
          "base_uri": "https://localhost:8080/"
        },
        "outputId": "e74ec4e8-7878-4d76-d33f-4250336c18e1"
      },
      "source": [
        "# demonstrate prediction for next 10 days\n",
        "from numpy import array\n",
        "\n",
        "lst_output=[]\n",
        "n_steps=100\n",
        "i=0\n",
        "while(i<30):\n",
        "    \n",
        "    if(len(temp_input)>100):\n",
        "        #print(temp_input)\n",
        "        X_input=np.array(temp_input[1:])\n",
        "        print(\"{} day input {}\".format(i,X_input))\n",
        "        X_input=X_input.reshape(1,-1)\n",
        "        X_input = X_input.reshape((1, n_steps, 1))\n",
        "        #print(x_input)\n",
        "        yhat = model.predict(X_input, verbose=0)\n",
        "        print(\"{} day output {}\".format(i,yhat))\n",
        "        temp_input.extend(yhat[0].tolist())\n",
        "        temp_input=temp_input[1:]\n",
        "        #print(temp_input)\n",
        "        lst_output.extend(yhat.tolist())\n",
        "        i=i+1\n",
        "    else:\n",
        "        X_input = X_input.reshape((1, n_steps,1))\n",
        "        yhat = model.predict(X_input, verbose=0)\n",
        "        print(yhat[0])\n",
        "        temp_input.extend(yhat[0].tolist())\n",
        "        print(len(temp_input))\n",
        "        lst_output.extend(yhat.tolist())\n",
        "        i=i+1\n",
        "    \n",
        "\n",
        "print(lst_output)   \n"
      ],
      "execution_count": null,
      "outputs": [
        {
          "output_type": "stream",
          "name": "stdout",
          "text": [
            "0 day input [0.13848039 0.14011438 0.13888889 0.13541667 0.14011438 0.1380719\n",
            " 0.13071895 0.13071895 0.12867647 0.11846405 0.14644608 0.14808007\n",
            " 0.15910948 0.15992647 0.15788399 0.16441993 0.17892157 0.17933007\n",
            " 0.19260621 0.20812908 0.18974673 0.18055556 0.18239379 0.17708333\n",
            " 0.17810458 0.18055556 0.17810458 0.17851307 0.19607843 0.18913399\n",
            " 0.18954248 0.19403595 0.19444444 0.20200163 0.19771242 0.19934641\n",
            " 0.19873366 0.1997549  0.2128268  0.21568627 0.20445261 0.21772876\n",
            " 0.21098856 0.21425654 0.19750817 0.18811275 0.17851307 0.17381536\n",
            " 0.16033497 0.16564542 0.17116013 0.17422386 0.18035131 0.17401961\n",
            " 0.16278595 0.16973039 0.17810458 0.17034314 0.16830065 0.17279412\n",
            " 0.17544935 0.18382353 0.19138072 0.18913399 0.19097222 0.17238562\n",
            " 0.16830065 0.1693219  0.17177288 0.16156046 0.14971405 0.1503268\n",
            " 0.15196078 0.14726307 0.14501634 0.14603758 0.12479575 0.13112745\n",
            " 0.11397059 0.1190768  0.12377451 0.13562092 0.12908497 0.13459967\n",
            " 0.12806373 0.13031046 0.12724673 0.13521242 0.14522059 0.15257353\n",
            " 0.14848856 0.14338235 0.14562908 0.15236928 0.15400327 0.14971405\n",
            " 0.1621732  0.16319444 0.16584967 0.15869047]\n",
            "0 day output [[0.15909034]]\n",
            "1 day input [0.14011438 0.13888889 0.13541667 0.14011438 0.1380719  0.13071895\n",
            " 0.13071895 0.12867647 0.11846405 0.14644608 0.14808007 0.15910948\n",
            " 0.15992647 0.15788399 0.16441993 0.17892157 0.17933007 0.19260621\n",
            " 0.20812908 0.18974673 0.18055556 0.18239379 0.17708333 0.17810458\n",
            " 0.18055556 0.17810458 0.17851307 0.19607843 0.18913399 0.18954248\n",
            " 0.19403595 0.19444444 0.20200163 0.19771242 0.19934641 0.19873366\n",
            " 0.1997549  0.2128268  0.21568627 0.20445261 0.21772876 0.21098856\n",
            " 0.21425654 0.19750817 0.18811275 0.17851307 0.17381536 0.16033497\n",
            " 0.16564542 0.17116013 0.17422386 0.18035131 0.17401961 0.16278595\n",
            " 0.16973039 0.17810458 0.17034314 0.16830065 0.17279412 0.17544935\n",
            " 0.18382353 0.19138072 0.18913399 0.19097222 0.17238562 0.16830065\n",
            " 0.1693219  0.17177288 0.16156046 0.14971405 0.1503268  0.15196078\n",
            " 0.14726307 0.14501634 0.14603758 0.12479575 0.13112745 0.11397059\n",
            " 0.1190768  0.12377451 0.13562092 0.12908497 0.13459967 0.12806373\n",
            " 0.13031046 0.12724673 0.13521242 0.14522059 0.15257353 0.14848856\n",
            " 0.14338235 0.14562908 0.15236928 0.15400327 0.14971405 0.1621732\n",
            " 0.16319444 0.16584967 0.15869047 0.15909034]\n",
            "1 day output [[0.15785511]]\n",
            "2 day input [0.13888889 0.13541667 0.14011438 0.1380719  0.13071895 0.13071895\n",
            " 0.12867647 0.11846405 0.14644608 0.14808007 0.15910948 0.15992647\n",
            " 0.15788399 0.16441993 0.17892157 0.17933007 0.19260621 0.20812908\n",
            " 0.18974673 0.18055556 0.18239379 0.17708333 0.17810458 0.18055556\n",
            " 0.17810458 0.17851307 0.19607843 0.18913399 0.18954248 0.19403595\n",
            " 0.19444444 0.20200163 0.19771242 0.19934641 0.19873366 0.1997549\n",
            " 0.2128268  0.21568627 0.20445261 0.21772876 0.21098856 0.21425654\n",
            " 0.19750817 0.18811275 0.17851307 0.17381536 0.16033497 0.16564542\n",
            " 0.17116013 0.17422386 0.18035131 0.17401961 0.16278595 0.16973039\n",
            " 0.17810458 0.17034314 0.16830065 0.17279412 0.17544935 0.18382353\n",
            " 0.19138072 0.18913399 0.19097222 0.17238562 0.16830065 0.1693219\n",
            " 0.17177288 0.16156046 0.14971405 0.1503268  0.15196078 0.14726307\n",
            " 0.14501634 0.14603758 0.12479575 0.13112745 0.11397059 0.1190768\n",
            " 0.12377451 0.13562092 0.12908497 0.13459967 0.12806373 0.13031046\n",
            " 0.12724673 0.13521242 0.14522059 0.15257353 0.14848856 0.14338235\n",
            " 0.14562908 0.15236928 0.15400327 0.14971405 0.1621732  0.16319444\n",
            " 0.16584967 0.15869047 0.15909034 0.15785511]\n",
            "2 day output [[0.15603745]]\n",
            "3 day input [0.13541667 0.14011438 0.1380719  0.13071895 0.13071895 0.12867647\n",
            " 0.11846405 0.14644608 0.14808007 0.15910948 0.15992647 0.15788399\n",
            " 0.16441993 0.17892157 0.17933007 0.19260621 0.20812908 0.18974673\n",
            " 0.18055556 0.18239379 0.17708333 0.17810458 0.18055556 0.17810458\n",
            " 0.17851307 0.19607843 0.18913399 0.18954248 0.19403595 0.19444444\n",
            " 0.20200163 0.19771242 0.19934641 0.19873366 0.1997549  0.2128268\n",
            " 0.21568627 0.20445261 0.21772876 0.21098856 0.21425654 0.19750817\n",
            " 0.18811275 0.17851307 0.17381536 0.16033497 0.16564542 0.17116013\n",
            " 0.17422386 0.18035131 0.17401961 0.16278595 0.16973039 0.17810458\n",
            " 0.17034314 0.16830065 0.17279412 0.17544935 0.18382353 0.19138072\n",
            " 0.18913399 0.19097222 0.17238562 0.16830065 0.1693219  0.17177288\n",
            " 0.16156046 0.14971405 0.1503268  0.15196078 0.14726307 0.14501634\n",
            " 0.14603758 0.12479575 0.13112745 0.11397059 0.1190768  0.12377451\n",
            " 0.13562092 0.12908497 0.13459967 0.12806373 0.13031046 0.12724673\n",
            " 0.13521242 0.14522059 0.15257353 0.14848856 0.14338235 0.14562908\n",
            " 0.15236928 0.15400327 0.14971405 0.1621732  0.16319444 0.16584967\n",
            " 0.15869047 0.15909034 0.15785511 0.15603745]\n",
            "3 day output [[0.15409273]]\n",
            "4 day input [0.14011438 0.1380719  0.13071895 0.13071895 0.12867647 0.11846405\n",
            " 0.14644608 0.14808007 0.15910948 0.15992647 0.15788399 0.16441993\n",
            " 0.17892157 0.17933007 0.19260621 0.20812908 0.18974673 0.18055556\n",
            " 0.18239379 0.17708333 0.17810458 0.18055556 0.17810458 0.17851307\n",
            " 0.19607843 0.18913399 0.18954248 0.19403595 0.19444444 0.20200163\n",
            " 0.19771242 0.19934641 0.19873366 0.1997549  0.2128268  0.21568627\n",
            " 0.20445261 0.21772876 0.21098856 0.21425654 0.19750817 0.18811275\n",
            " 0.17851307 0.17381536 0.16033497 0.16564542 0.17116013 0.17422386\n",
            " 0.18035131 0.17401961 0.16278595 0.16973039 0.17810458 0.17034314\n",
            " 0.16830065 0.17279412 0.17544935 0.18382353 0.19138072 0.18913399\n",
            " 0.19097222 0.17238562 0.16830065 0.1693219  0.17177288 0.16156046\n",
            " 0.14971405 0.1503268  0.15196078 0.14726307 0.14501634 0.14603758\n",
            " 0.12479575 0.13112745 0.11397059 0.1190768  0.12377451 0.13562092\n",
            " 0.12908497 0.13459967 0.12806373 0.13031046 0.12724673 0.13521242\n",
            " 0.14522059 0.15257353 0.14848856 0.14338235 0.14562908 0.15236928\n",
            " 0.15400327 0.14971405 0.1621732  0.16319444 0.16584967 0.15869047\n",
            " 0.15909034 0.15785511 0.15603745 0.15409273]\n",
            "4 day output [[0.15219934]]\n",
            "5 day input [0.1380719  0.13071895 0.13071895 0.12867647 0.11846405 0.14644608\n",
            " 0.14808007 0.15910948 0.15992647 0.15788399 0.16441993 0.17892157\n",
            " 0.17933007 0.19260621 0.20812908 0.18974673 0.18055556 0.18239379\n",
            " 0.17708333 0.17810458 0.18055556 0.17810458 0.17851307 0.19607843\n",
            " 0.18913399 0.18954248 0.19403595 0.19444444 0.20200163 0.19771242\n",
            " 0.19934641 0.19873366 0.1997549  0.2128268  0.21568627 0.20445261\n",
            " 0.21772876 0.21098856 0.21425654 0.19750817 0.18811275 0.17851307\n",
            " 0.17381536 0.16033497 0.16564542 0.17116013 0.17422386 0.18035131\n",
            " 0.17401961 0.16278595 0.16973039 0.17810458 0.17034314 0.16830065\n",
            " 0.17279412 0.17544935 0.18382353 0.19138072 0.18913399 0.19097222\n",
            " 0.17238562 0.16830065 0.1693219  0.17177288 0.16156046 0.14971405\n",
            " 0.1503268  0.15196078 0.14726307 0.14501634 0.14603758 0.12479575\n",
            " 0.13112745 0.11397059 0.1190768  0.12377451 0.13562092 0.12908497\n",
            " 0.13459967 0.12806373 0.13031046 0.12724673 0.13521242 0.14522059\n",
            " 0.15257353 0.14848856 0.14338235 0.14562908 0.15236928 0.15400327\n",
            " 0.14971405 0.1621732  0.16319444 0.16584967 0.15869047 0.15909034\n",
            " 0.15785511 0.15603745 0.15409273 0.15219934]\n",
            "5 day output [[0.15043166]]\n",
            "6 day input [0.13071895 0.13071895 0.12867647 0.11846405 0.14644608 0.14808007\n",
            " 0.15910948 0.15992647 0.15788399 0.16441993 0.17892157 0.17933007\n",
            " 0.19260621 0.20812908 0.18974673 0.18055556 0.18239379 0.17708333\n",
            " 0.17810458 0.18055556 0.17810458 0.17851307 0.19607843 0.18913399\n",
            " 0.18954248 0.19403595 0.19444444 0.20200163 0.19771242 0.19934641\n",
            " 0.19873366 0.1997549  0.2128268  0.21568627 0.20445261 0.21772876\n",
            " 0.21098856 0.21425654 0.19750817 0.18811275 0.17851307 0.17381536\n",
            " 0.16033497 0.16564542 0.17116013 0.17422386 0.18035131 0.17401961\n",
            " 0.16278595 0.16973039 0.17810458 0.17034314 0.16830065 0.17279412\n",
            " 0.17544935 0.18382353 0.19138072 0.18913399 0.19097222 0.17238562\n",
            " 0.16830065 0.1693219  0.17177288 0.16156046 0.14971405 0.1503268\n",
            " 0.15196078 0.14726307 0.14501634 0.14603758 0.12479575 0.13112745\n",
            " 0.11397059 0.1190768  0.12377451 0.13562092 0.12908497 0.13459967\n",
            " 0.12806373 0.13031046 0.12724673 0.13521242 0.14522059 0.15257353\n",
            " 0.14848856 0.14338235 0.14562908 0.15236928 0.15400327 0.14971405\n",
            " 0.1621732  0.16319444 0.16584967 0.15869047 0.15909034 0.15785511\n",
            " 0.15603745 0.15409273 0.15219934 0.15043166]\n",
            "6 day output [[0.14882198]]\n",
            "7 day input [0.13071895 0.12867647 0.11846405 0.14644608 0.14808007 0.15910948\n",
            " 0.15992647 0.15788399 0.16441993 0.17892157 0.17933007 0.19260621\n",
            " 0.20812908 0.18974673 0.18055556 0.18239379 0.17708333 0.17810458\n",
            " 0.18055556 0.17810458 0.17851307 0.19607843 0.18913399 0.18954248\n",
            " 0.19403595 0.19444444 0.20200163 0.19771242 0.19934641 0.19873366\n",
            " 0.1997549  0.2128268  0.21568627 0.20445261 0.21772876 0.21098856\n",
            " 0.21425654 0.19750817 0.18811275 0.17851307 0.17381536 0.16033497\n",
            " 0.16564542 0.17116013 0.17422386 0.18035131 0.17401961 0.16278595\n",
            " 0.16973039 0.17810458 0.17034314 0.16830065 0.17279412 0.17544935\n",
            " 0.18382353 0.19138072 0.18913399 0.19097222 0.17238562 0.16830065\n",
            " 0.1693219  0.17177288 0.16156046 0.14971405 0.1503268  0.15196078\n",
            " 0.14726307 0.14501634 0.14603758 0.12479575 0.13112745 0.11397059\n",
            " 0.1190768  0.12377451 0.13562092 0.12908497 0.13459967 0.12806373\n",
            " 0.13031046 0.12724673 0.13521242 0.14522059 0.15257353 0.14848856\n",
            " 0.14338235 0.14562908 0.15236928 0.15400327 0.14971405 0.1621732\n",
            " 0.16319444 0.16584967 0.15869047 0.15909034 0.15785511 0.15603745\n",
            " 0.15409273 0.15219934 0.15043166 0.14882198]\n",
            "7 day output [[0.14737941]]\n",
            "8 day input [0.12867647 0.11846405 0.14644608 0.14808007 0.15910948 0.15992647\n",
            " 0.15788399 0.16441993 0.17892157 0.17933007 0.19260621 0.20812908\n",
            " 0.18974673 0.18055556 0.18239379 0.17708333 0.17810458 0.18055556\n",
            " 0.17810458 0.17851307 0.19607843 0.18913399 0.18954248 0.19403595\n",
            " 0.19444444 0.20200163 0.19771242 0.19934641 0.19873366 0.1997549\n",
            " 0.2128268  0.21568627 0.20445261 0.21772876 0.21098856 0.21425654\n",
            " 0.19750817 0.18811275 0.17851307 0.17381536 0.16033497 0.16564542\n",
            " 0.17116013 0.17422386 0.18035131 0.17401961 0.16278595 0.16973039\n",
            " 0.17810458 0.17034314 0.16830065 0.17279412 0.17544935 0.18382353\n",
            " 0.19138072 0.18913399 0.19097222 0.17238562 0.16830065 0.1693219\n",
            " 0.17177288 0.16156046 0.14971405 0.1503268  0.15196078 0.14726307\n",
            " 0.14501634 0.14603758 0.12479575 0.13112745 0.11397059 0.1190768\n",
            " 0.12377451 0.13562092 0.12908497 0.13459967 0.12806373 0.13031046\n",
            " 0.12724673 0.13521242 0.14522059 0.15257353 0.14848856 0.14338235\n",
            " 0.14562908 0.15236928 0.15400327 0.14971405 0.1621732  0.16319444\n",
            " 0.16584967 0.15869047 0.15909034 0.15785511 0.15603745 0.15409273\n",
            " 0.15219934 0.15043166 0.14882198 0.14737941]\n",
            "8 day output [[0.14609718]]\n",
            "9 day input [0.11846405 0.14644608 0.14808007 0.15910948 0.15992647 0.15788399\n",
            " 0.16441993 0.17892157 0.17933007 0.19260621 0.20812908 0.18974673\n",
            " 0.18055556 0.18239379 0.17708333 0.17810458 0.18055556 0.17810458\n",
            " 0.17851307 0.19607843 0.18913399 0.18954248 0.19403595 0.19444444\n",
            " 0.20200163 0.19771242 0.19934641 0.19873366 0.1997549  0.2128268\n",
            " 0.21568627 0.20445261 0.21772876 0.21098856 0.21425654 0.19750817\n",
            " 0.18811275 0.17851307 0.17381536 0.16033497 0.16564542 0.17116013\n",
            " 0.17422386 0.18035131 0.17401961 0.16278595 0.16973039 0.17810458\n",
            " 0.17034314 0.16830065 0.17279412 0.17544935 0.18382353 0.19138072\n",
            " 0.18913399 0.19097222 0.17238562 0.16830065 0.1693219  0.17177288\n",
            " 0.16156046 0.14971405 0.1503268  0.15196078 0.14726307 0.14501634\n",
            " 0.14603758 0.12479575 0.13112745 0.11397059 0.1190768  0.12377451\n",
            " 0.13562092 0.12908497 0.13459967 0.12806373 0.13031046 0.12724673\n",
            " 0.13521242 0.14522059 0.15257353 0.14848856 0.14338235 0.14562908\n",
            " 0.15236928 0.15400327 0.14971405 0.1621732  0.16319444 0.16584967\n",
            " 0.15869047 0.15909034 0.15785511 0.15603745 0.15409273 0.15219934\n",
            " 0.15043166 0.14882198 0.14737941 0.14609718]\n",
            "9 day output [[0.14495808]]\n",
            "10 day input [0.14644608 0.14808007 0.15910948 0.15992647 0.15788399 0.16441993\n",
            " 0.17892157 0.17933007 0.19260621 0.20812908 0.18974673 0.18055556\n",
            " 0.18239379 0.17708333 0.17810458 0.18055556 0.17810458 0.17851307\n",
            " 0.19607843 0.18913399 0.18954248 0.19403595 0.19444444 0.20200163\n",
            " 0.19771242 0.19934641 0.19873366 0.1997549  0.2128268  0.21568627\n",
            " 0.20445261 0.21772876 0.21098856 0.21425654 0.19750817 0.18811275\n",
            " 0.17851307 0.17381536 0.16033497 0.16564542 0.17116013 0.17422386\n",
            " 0.18035131 0.17401961 0.16278595 0.16973039 0.17810458 0.17034314\n",
            " 0.16830065 0.17279412 0.17544935 0.18382353 0.19138072 0.18913399\n",
            " 0.19097222 0.17238562 0.16830065 0.1693219  0.17177288 0.16156046\n",
            " 0.14971405 0.1503268  0.15196078 0.14726307 0.14501634 0.14603758\n",
            " 0.12479575 0.13112745 0.11397059 0.1190768  0.12377451 0.13562092\n",
            " 0.12908497 0.13459967 0.12806373 0.13031046 0.12724673 0.13521242\n",
            " 0.14522059 0.15257353 0.14848856 0.14338235 0.14562908 0.15236928\n",
            " 0.15400327 0.14971405 0.1621732  0.16319444 0.16584967 0.15869047\n",
            " 0.15909034 0.15785511 0.15603745 0.15409273 0.15219934 0.15043166\n",
            " 0.14882198 0.14737941 0.14609718 0.14495808]\n",
            "10 day output [[0.14393935]]\n",
            "11 day input [0.14808007 0.15910948 0.15992647 0.15788399 0.16441993 0.17892157\n",
            " 0.17933007 0.19260621 0.20812908 0.18974673 0.18055556 0.18239379\n",
            " 0.17708333 0.17810458 0.18055556 0.17810458 0.17851307 0.19607843\n",
            " 0.18913399 0.18954248 0.19403595 0.19444444 0.20200163 0.19771242\n",
            " 0.19934641 0.19873366 0.1997549  0.2128268  0.21568627 0.20445261\n",
            " 0.21772876 0.21098856 0.21425654 0.19750817 0.18811275 0.17851307\n",
            " 0.17381536 0.16033497 0.16564542 0.17116013 0.17422386 0.18035131\n",
            " 0.17401961 0.16278595 0.16973039 0.17810458 0.17034314 0.16830065\n",
            " 0.17279412 0.17544935 0.18382353 0.19138072 0.18913399 0.19097222\n",
            " 0.17238562 0.16830065 0.1693219  0.17177288 0.16156046 0.14971405\n",
            " 0.1503268  0.15196078 0.14726307 0.14501634 0.14603758 0.12479575\n",
            " 0.13112745 0.11397059 0.1190768  0.12377451 0.13562092 0.12908497\n",
            " 0.13459967 0.12806373 0.13031046 0.12724673 0.13521242 0.14522059\n",
            " 0.15257353 0.14848856 0.14338235 0.14562908 0.15236928 0.15400327\n",
            " 0.14971405 0.1621732  0.16319444 0.16584967 0.15869047 0.15909034\n",
            " 0.15785511 0.15603745 0.15409273 0.15219934 0.15043166 0.14882198\n",
            " 0.14737941 0.14609718 0.14495808 0.14393935]\n",
            "11 day output [[0.14301673]]\n",
            "12 day input [0.15910948 0.15992647 0.15788399 0.16441993 0.17892157 0.17933007\n",
            " 0.19260621 0.20812908 0.18974673 0.18055556 0.18239379 0.17708333\n",
            " 0.17810458 0.18055556 0.17810458 0.17851307 0.19607843 0.18913399\n",
            " 0.18954248 0.19403595 0.19444444 0.20200163 0.19771242 0.19934641\n",
            " 0.19873366 0.1997549  0.2128268  0.21568627 0.20445261 0.21772876\n",
            " 0.21098856 0.21425654 0.19750817 0.18811275 0.17851307 0.17381536\n",
            " 0.16033497 0.16564542 0.17116013 0.17422386 0.18035131 0.17401961\n",
            " 0.16278595 0.16973039 0.17810458 0.17034314 0.16830065 0.17279412\n",
            " 0.17544935 0.18382353 0.19138072 0.18913399 0.19097222 0.17238562\n",
            " 0.16830065 0.1693219  0.17177288 0.16156046 0.14971405 0.1503268\n",
            " 0.15196078 0.14726307 0.14501634 0.14603758 0.12479575 0.13112745\n",
            " 0.11397059 0.1190768  0.12377451 0.13562092 0.12908497 0.13459967\n",
            " 0.12806373 0.13031046 0.12724673 0.13521242 0.14522059 0.15257353\n",
            " 0.14848856 0.14338235 0.14562908 0.15236928 0.15400327 0.14971405\n",
            " 0.1621732  0.16319444 0.16584967 0.15869047 0.15909034 0.15785511\n",
            " 0.15603745 0.15409273 0.15219934 0.15043166 0.14882198 0.14737941\n",
            " 0.14609718 0.14495808 0.14393935 0.14301673]\n",
            "12 day output [[0.14216734]]\n",
            "13 day input [0.15992647 0.15788399 0.16441993 0.17892157 0.17933007 0.19260621\n",
            " 0.20812908 0.18974673 0.18055556 0.18239379 0.17708333 0.17810458\n",
            " 0.18055556 0.17810458 0.17851307 0.19607843 0.18913399 0.18954248\n",
            " 0.19403595 0.19444444 0.20200163 0.19771242 0.19934641 0.19873366\n",
            " 0.1997549  0.2128268  0.21568627 0.20445261 0.21772876 0.21098856\n",
            " 0.21425654 0.19750817 0.18811275 0.17851307 0.17381536 0.16033497\n",
            " 0.16564542 0.17116013 0.17422386 0.18035131 0.17401961 0.16278595\n",
            " 0.16973039 0.17810458 0.17034314 0.16830065 0.17279412 0.17544935\n",
            " 0.18382353 0.19138072 0.18913399 0.19097222 0.17238562 0.16830065\n",
            " 0.1693219  0.17177288 0.16156046 0.14971405 0.1503268  0.15196078\n",
            " 0.14726307 0.14501634 0.14603758 0.12479575 0.13112745 0.11397059\n",
            " 0.1190768  0.12377451 0.13562092 0.12908497 0.13459967 0.12806373\n",
            " 0.13031046 0.12724673 0.13521242 0.14522059 0.15257353 0.14848856\n",
            " 0.14338235 0.14562908 0.15236928 0.15400327 0.14971405 0.1621732\n",
            " 0.16319444 0.16584967 0.15869047 0.15909034 0.15785511 0.15603745\n",
            " 0.15409273 0.15219934 0.15043166 0.14882198 0.14737941 0.14609718\n",
            " 0.14495808 0.14393935 0.14301673 0.14216734]\n",
            "13 day output [[0.14137165]]\n",
            "14 day input [0.15788399 0.16441993 0.17892157 0.17933007 0.19260621 0.20812908\n",
            " 0.18974673 0.18055556 0.18239379 0.17708333 0.17810458 0.18055556\n",
            " 0.17810458 0.17851307 0.19607843 0.18913399 0.18954248 0.19403595\n",
            " 0.19444444 0.20200163 0.19771242 0.19934641 0.19873366 0.1997549\n",
            " 0.2128268  0.21568627 0.20445261 0.21772876 0.21098856 0.21425654\n",
            " 0.19750817 0.18811275 0.17851307 0.17381536 0.16033497 0.16564542\n",
            " 0.17116013 0.17422386 0.18035131 0.17401961 0.16278595 0.16973039\n",
            " 0.17810458 0.17034314 0.16830065 0.17279412 0.17544935 0.18382353\n",
            " 0.19138072 0.18913399 0.19097222 0.17238562 0.16830065 0.1693219\n",
            " 0.17177288 0.16156046 0.14971405 0.1503268  0.15196078 0.14726307\n",
            " 0.14501634 0.14603758 0.12479575 0.13112745 0.11397059 0.1190768\n",
            " 0.12377451 0.13562092 0.12908497 0.13459967 0.12806373 0.13031046\n",
            " 0.12724673 0.13521242 0.14522059 0.15257353 0.14848856 0.14338235\n",
            " 0.14562908 0.15236928 0.15400327 0.14971405 0.1621732  0.16319444\n",
            " 0.16584967 0.15869047 0.15909034 0.15785511 0.15603745 0.15409273\n",
            " 0.15219934 0.15043166 0.14882198 0.14737941 0.14609718 0.14495808\n",
            " 0.14393935 0.14301673 0.14216734 0.14137165]\n",
            "14 day output [[0.14061421]]\n",
            "15 day input [0.16441993 0.17892157 0.17933007 0.19260621 0.20812908 0.18974673\n",
            " 0.18055556 0.18239379 0.17708333 0.17810458 0.18055556 0.17810458\n",
            " 0.17851307 0.19607843 0.18913399 0.18954248 0.19403595 0.19444444\n",
            " 0.20200163 0.19771242 0.19934641 0.19873366 0.1997549  0.2128268\n",
            " 0.21568627 0.20445261 0.21772876 0.21098856 0.21425654 0.19750817\n",
            " 0.18811275 0.17851307 0.17381536 0.16033497 0.16564542 0.17116013\n",
            " 0.17422386 0.18035131 0.17401961 0.16278595 0.16973039 0.17810458\n",
            " 0.17034314 0.16830065 0.17279412 0.17544935 0.18382353 0.19138072\n",
            " 0.18913399 0.19097222 0.17238562 0.16830065 0.1693219  0.17177288\n",
            " 0.16156046 0.14971405 0.1503268  0.15196078 0.14726307 0.14501634\n",
            " 0.14603758 0.12479575 0.13112745 0.11397059 0.1190768  0.12377451\n",
            " 0.13562092 0.12908497 0.13459967 0.12806373 0.13031046 0.12724673\n",
            " 0.13521242 0.14522059 0.15257353 0.14848856 0.14338235 0.14562908\n",
            " 0.15236928 0.15400327 0.14971405 0.1621732  0.16319444 0.16584967\n",
            " 0.15869047 0.15909034 0.15785511 0.15603745 0.15409273 0.15219934\n",
            " 0.15043166 0.14882198 0.14737941 0.14609718 0.14495808 0.14393935\n",
            " 0.14301673 0.14216734 0.14137165 0.14061421]\n",
            "15 day output [[0.1398838]]\n",
            "16 day input [0.17892157 0.17933007 0.19260621 0.20812908 0.18974673 0.18055556\n",
            " 0.18239379 0.17708333 0.17810458 0.18055556 0.17810458 0.17851307\n",
            " 0.19607843 0.18913399 0.18954248 0.19403595 0.19444444 0.20200163\n",
            " 0.19771242 0.19934641 0.19873366 0.1997549  0.2128268  0.21568627\n",
            " 0.20445261 0.21772876 0.21098856 0.21425654 0.19750817 0.18811275\n",
            " 0.17851307 0.17381536 0.16033497 0.16564542 0.17116013 0.17422386\n",
            " 0.18035131 0.17401961 0.16278595 0.16973039 0.17810458 0.17034314\n",
            " 0.16830065 0.17279412 0.17544935 0.18382353 0.19138072 0.18913399\n",
            " 0.19097222 0.17238562 0.16830065 0.1693219  0.17177288 0.16156046\n",
            " 0.14971405 0.1503268  0.15196078 0.14726307 0.14501634 0.14603758\n",
            " 0.12479575 0.13112745 0.11397059 0.1190768  0.12377451 0.13562092\n",
            " 0.12908497 0.13459967 0.12806373 0.13031046 0.12724673 0.13521242\n",
            " 0.14522059 0.15257353 0.14848856 0.14338235 0.14562908 0.15236928\n",
            " 0.15400327 0.14971405 0.1621732  0.16319444 0.16584967 0.15869047\n",
            " 0.15909034 0.15785511 0.15603745 0.15409273 0.15219934 0.15043166\n",
            " 0.14882198 0.14737941 0.14609718 0.14495808 0.14393935 0.14301673\n",
            " 0.14216734 0.14137165 0.14061421 0.1398838 ]\n",
            "16 day output [[0.1391732]]\n",
            "17 day input [0.17933007 0.19260621 0.20812908 0.18974673 0.18055556 0.18239379\n",
            " 0.17708333 0.17810458 0.18055556 0.17810458 0.17851307 0.19607843\n",
            " 0.18913399 0.18954248 0.19403595 0.19444444 0.20200163 0.19771242\n",
            " 0.19934641 0.19873366 0.1997549  0.2128268  0.21568627 0.20445261\n",
            " 0.21772876 0.21098856 0.21425654 0.19750817 0.18811275 0.17851307\n",
            " 0.17381536 0.16033497 0.16564542 0.17116013 0.17422386 0.18035131\n",
            " 0.17401961 0.16278595 0.16973039 0.17810458 0.17034314 0.16830065\n",
            " 0.17279412 0.17544935 0.18382353 0.19138072 0.18913399 0.19097222\n",
            " 0.17238562 0.16830065 0.1693219  0.17177288 0.16156046 0.14971405\n",
            " 0.1503268  0.15196078 0.14726307 0.14501634 0.14603758 0.12479575\n",
            " 0.13112745 0.11397059 0.1190768  0.12377451 0.13562092 0.12908497\n",
            " 0.13459967 0.12806373 0.13031046 0.12724673 0.13521242 0.14522059\n",
            " 0.15257353 0.14848856 0.14338235 0.14562908 0.15236928 0.15400327\n",
            " 0.14971405 0.1621732  0.16319444 0.16584967 0.15869047 0.15909034\n",
            " 0.15785511 0.15603745 0.15409273 0.15219934 0.15043166 0.14882198\n",
            " 0.14737941 0.14609718 0.14495808 0.14393935 0.14301673 0.14216734\n",
            " 0.14137165 0.14061421 0.1398838  0.13917319]\n",
            "17 day output [[0.13847825]]\n",
            "18 day input [0.19260621 0.20812908 0.18974673 0.18055556 0.18239379 0.17708333\n",
            " 0.17810458 0.18055556 0.17810458 0.17851307 0.19607843 0.18913399\n",
            " 0.18954248 0.19403595 0.19444444 0.20200163 0.19771242 0.19934641\n",
            " 0.19873366 0.1997549  0.2128268  0.21568627 0.20445261 0.21772876\n",
            " 0.21098856 0.21425654 0.19750817 0.18811275 0.17851307 0.17381536\n",
            " 0.16033497 0.16564542 0.17116013 0.17422386 0.18035131 0.17401961\n",
            " 0.16278595 0.16973039 0.17810458 0.17034314 0.16830065 0.17279412\n",
            " 0.17544935 0.18382353 0.19138072 0.18913399 0.19097222 0.17238562\n",
            " 0.16830065 0.1693219  0.17177288 0.16156046 0.14971405 0.1503268\n",
            " 0.15196078 0.14726307 0.14501634 0.14603758 0.12479575 0.13112745\n",
            " 0.11397059 0.1190768  0.12377451 0.13562092 0.12908497 0.13459967\n",
            " 0.12806373 0.13031046 0.12724673 0.13521242 0.14522059 0.15257353\n",
            " 0.14848856 0.14338235 0.14562908 0.15236928 0.15400327 0.14971405\n",
            " 0.1621732  0.16319444 0.16584967 0.15869047 0.15909034 0.15785511\n",
            " 0.15603745 0.15409273 0.15219934 0.15043166 0.14882198 0.14737941\n",
            " 0.14609718 0.14495808 0.14393935 0.14301673 0.14216734 0.14137165\n",
            " 0.14061421 0.1398838  0.13917319 0.13847825]\n",
            "18 day output [[0.1377973]]\n",
            "19 day input [0.20812908 0.18974673 0.18055556 0.18239379 0.17708333 0.17810458\n",
            " 0.18055556 0.17810458 0.17851307 0.19607843 0.18913399 0.18954248\n",
            " 0.19403595 0.19444444 0.20200163 0.19771242 0.19934641 0.19873366\n",
            " 0.1997549  0.2128268  0.21568627 0.20445261 0.21772876 0.21098856\n",
            " 0.21425654 0.19750817 0.18811275 0.17851307 0.17381536 0.16033497\n",
            " 0.16564542 0.17116013 0.17422386 0.18035131 0.17401961 0.16278595\n",
            " 0.16973039 0.17810458 0.17034314 0.16830065 0.17279412 0.17544935\n",
            " 0.18382353 0.19138072 0.18913399 0.19097222 0.17238562 0.16830065\n",
            " 0.1693219  0.17177288 0.16156046 0.14971405 0.1503268  0.15196078\n",
            " 0.14726307 0.14501634 0.14603758 0.12479575 0.13112745 0.11397059\n",
            " 0.1190768  0.12377451 0.13562092 0.12908497 0.13459967 0.12806373\n",
            " 0.13031046 0.12724673 0.13521242 0.14522059 0.15257353 0.14848856\n",
            " 0.14338235 0.14562908 0.15236928 0.15400327 0.14971405 0.1621732\n",
            " 0.16319444 0.16584967 0.15869047 0.15909034 0.15785511 0.15603745\n",
            " 0.15409273 0.15219934 0.15043166 0.14882198 0.14737941 0.14609718\n",
            " 0.14495808 0.14393935 0.14301673 0.14216734 0.14137165 0.14061421\n",
            " 0.1398838  0.13917319 0.13847825 0.1377973 ]\n",
            "19 day output [[0.13713025]]\n",
            "20 day input [0.18974673 0.18055556 0.18239379 0.17708333 0.17810458 0.18055556\n",
            " 0.17810458 0.17851307 0.19607843 0.18913399 0.18954248 0.19403595\n",
            " 0.19444444 0.20200163 0.19771242 0.19934641 0.19873366 0.1997549\n",
            " 0.2128268  0.21568627 0.20445261 0.21772876 0.21098856 0.21425654\n",
            " 0.19750817 0.18811275 0.17851307 0.17381536 0.16033497 0.16564542\n",
            " 0.17116013 0.17422386 0.18035131 0.17401961 0.16278595 0.16973039\n",
            " 0.17810458 0.17034314 0.16830065 0.17279412 0.17544935 0.18382353\n",
            " 0.19138072 0.18913399 0.19097222 0.17238562 0.16830065 0.1693219\n",
            " 0.17177288 0.16156046 0.14971405 0.1503268  0.15196078 0.14726307\n",
            " 0.14501634 0.14603758 0.12479575 0.13112745 0.11397059 0.1190768\n",
            " 0.12377451 0.13562092 0.12908497 0.13459967 0.12806373 0.13031046\n",
            " 0.12724673 0.13521242 0.14522059 0.15257353 0.14848856 0.14338235\n",
            " 0.14562908 0.15236928 0.15400327 0.14971405 0.1621732  0.16319444\n",
            " 0.16584967 0.15869047 0.15909034 0.15785511 0.15603745 0.15409273\n",
            " 0.15219934 0.15043166 0.14882198 0.14737941 0.14609718 0.14495808\n",
            " 0.14393935 0.14301673 0.14216734 0.14137165 0.14061421 0.1398838\n",
            " 0.13917319 0.13847825 0.1377973  0.13713025]\n",
            "20 day output [[0.13647804]]\n",
            "21 day input [0.18055556 0.18239379 0.17708333 0.17810458 0.18055556 0.17810458\n",
            " 0.17851307 0.19607843 0.18913399 0.18954248 0.19403595 0.19444444\n",
            " 0.20200163 0.19771242 0.19934641 0.19873366 0.1997549  0.2128268\n",
            " 0.21568627 0.20445261 0.21772876 0.21098856 0.21425654 0.19750817\n",
            " 0.18811275 0.17851307 0.17381536 0.16033497 0.16564542 0.17116013\n",
            " 0.17422386 0.18035131 0.17401961 0.16278595 0.16973039 0.17810458\n",
            " 0.17034314 0.16830065 0.17279412 0.17544935 0.18382353 0.19138072\n",
            " 0.18913399 0.19097222 0.17238562 0.16830065 0.1693219  0.17177288\n",
            " 0.16156046 0.14971405 0.1503268  0.15196078 0.14726307 0.14501634\n",
            " 0.14603758 0.12479575 0.13112745 0.11397059 0.1190768  0.12377451\n",
            " 0.13562092 0.12908497 0.13459967 0.12806373 0.13031046 0.12724673\n",
            " 0.13521242 0.14522059 0.15257353 0.14848856 0.14338235 0.14562908\n",
            " 0.15236928 0.15400327 0.14971405 0.1621732  0.16319444 0.16584967\n",
            " 0.15869047 0.15909034 0.15785511 0.15603745 0.15409273 0.15219934\n",
            " 0.15043166 0.14882198 0.14737941 0.14609718 0.14495808 0.14393935\n",
            " 0.14301673 0.14216734 0.14137165 0.14061421 0.1398838  0.13917319\n",
            " 0.13847825 0.1377973  0.13713025 0.13647804]\n",
            "21 day output [[0.13584183]]\n",
            "22 day input [0.18239379 0.17708333 0.17810458 0.18055556 0.17810458 0.17851307\n",
            " 0.19607843 0.18913399 0.18954248 0.19403595 0.19444444 0.20200163\n",
            " 0.19771242 0.19934641 0.19873366 0.1997549  0.2128268  0.21568627\n",
            " 0.20445261 0.21772876 0.21098856 0.21425654 0.19750817 0.18811275\n",
            " 0.17851307 0.17381536 0.16033497 0.16564542 0.17116013 0.17422386\n",
            " 0.18035131 0.17401961 0.16278595 0.16973039 0.17810458 0.17034314\n",
            " 0.16830065 0.17279412 0.17544935 0.18382353 0.19138072 0.18913399\n",
            " 0.19097222 0.17238562 0.16830065 0.1693219  0.17177288 0.16156046\n",
            " 0.14971405 0.1503268  0.15196078 0.14726307 0.14501634 0.14603758\n",
            " 0.12479575 0.13112745 0.11397059 0.1190768  0.12377451 0.13562092\n",
            " 0.12908497 0.13459967 0.12806373 0.13031046 0.12724673 0.13521242\n",
            " 0.14522059 0.15257353 0.14848856 0.14338235 0.14562908 0.15236928\n",
            " 0.15400327 0.14971405 0.1621732  0.16319444 0.16584967 0.15869047\n",
            " 0.15909034 0.15785511 0.15603745 0.15409273 0.15219934 0.15043166\n",
            " 0.14882198 0.14737941 0.14609718 0.14495808 0.14393935 0.14301673\n",
            " 0.14216734 0.14137165 0.14061421 0.1398838  0.13917319 0.13847825\n",
            " 0.1377973  0.13713025 0.13647804 0.13584183]\n",
            "22 day output [[0.13522282]]\n",
            "23 day input [0.17708333 0.17810458 0.18055556 0.17810458 0.17851307 0.19607843\n",
            " 0.18913399 0.18954248 0.19403595 0.19444444 0.20200163 0.19771242\n",
            " 0.19934641 0.19873366 0.1997549  0.2128268  0.21568627 0.20445261\n",
            " 0.21772876 0.21098856 0.21425654 0.19750817 0.18811275 0.17851307\n",
            " 0.17381536 0.16033497 0.16564542 0.17116013 0.17422386 0.18035131\n",
            " 0.17401961 0.16278595 0.16973039 0.17810458 0.17034314 0.16830065\n",
            " 0.17279412 0.17544935 0.18382353 0.19138072 0.18913399 0.19097222\n",
            " 0.17238562 0.16830065 0.1693219  0.17177288 0.16156046 0.14971405\n",
            " 0.1503268  0.15196078 0.14726307 0.14501634 0.14603758 0.12479575\n",
            " 0.13112745 0.11397059 0.1190768  0.12377451 0.13562092 0.12908497\n",
            " 0.13459967 0.12806373 0.13031046 0.12724673 0.13521242 0.14522059\n",
            " 0.15257353 0.14848856 0.14338235 0.14562908 0.15236928 0.15400327\n",
            " 0.14971405 0.1621732  0.16319444 0.16584967 0.15869047 0.15909034\n",
            " 0.15785511 0.15603745 0.15409273 0.15219934 0.15043166 0.14882198\n",
            " 0.14737941 0.14609718 0.14495808 0.14393935 0.14301673 0.14216734\n",
            " 0.14137165 0.14061421 0.1398838  0.13917319 0.13847825 0.1377973\n",
            " 0.13713025 0.13647804 0.13584183 0.13522282]\n",
            "23 day output [[0.13462192]]\n",
            "24 day input [0.17810458 0.18055556 0.17810458 0.17851307 0.19607843 0.18913399\n",
            " 0.18954248 0.19403595 0.19444444 0.20200163 0.19771242 0.19934641\n",
            " 0.19873366 0.1997549  0.2128268  0.21568627 0.20445261 0.21772876\n",
            " 0.21098856 0.21425654 0.19750817 0.18811275 0.17851307 0.17381536\n",
            " 0.16033497 0.16564542 0.17116013 0.17422386 0.18035131 0.17401961\n",
            " 0.16278595 0.16973039 0.17810458 0.17034314 0.16830065 0.17279412\n",
            " 0.17544935 0.18382353 0.19138072 0.18913399 0.19097222 0.17238562\n",
            " 0.16830065 0.1693219  0.17177288 0.16156046 0.14971405 0.1503268\n",
            " 0.15196078 0.14726307 0.14501634 0.14603758 0.12479575 0.13112745\n",
            " 0.11397059 0.1190768  0.12377451 0.13562092 0.12908497 0.13459967\n",
            " 0.12806373 0.13031046 0.12724673 0.13521242 0.14522059 0.15257353\n",
            " 0.14848856 0.14338235 0.14562908 0.15236928 0.15400327 0.14971405\n",
            " 0.1621732  0.16319444 0.16584967 0.15869047 0.15909034 0.15785511\n",
            " 0.15603745 0.15409273 0.15219934 0.15043166 0.14882198 0.14737941\n",
            " 0.14609718 0.14495808 0.14393935 0.14301673 0.14216734 0.14137165\n",
            " 0.14061421 0.1398838  0.13917319 0.13847825 0.1377973  0.13713025\n",
            " 0.13647804 0.13584183 0.13522282 0.13462192]\n",
            "24 day output [[0.13403954]]\n",
            "25 day input [0.18055556 0.17810458 0.17851307 0.19607843 0.18913399 0.18954248\n",
            " 0.19403595 0.19444444 0.20200163 0.19771242 0.19934641 0.19873366\n",
            " 0.1997549  0.2128268  0.21568627 0.20445261 0.21772876 0.21098856\n",
            " 0.21425654 0.19750817 0.18811275 0.17851307 0.17381536 0.16033497\n",
            " 0.16564542 0.17116013 0.17422386 0.18035131 0.17401961 0.16278595\n",
            " 0.16973039 0.17810458 0.17034314 0.16830065 0.17279412 0.17544935\n",
            " 0.18382353 0.19138072 0.18913399 0.19097222 0.17238562 0.16830065\n",
            " 0.1693219  0.17177288 0.16156046 0.14971405 0.1503268  0.15196078\n",
            " 0.14726307 0.14501634 0.14603758 0.12479575 0.13112745 0.11397059\n",
            " 0.1190768  0.12377451 0.13562092 0.12908497 0.13459967 0.12806373\n",
            " 0.13031046 0.12724673 0.13521242 0.14522059 0.15257353 0.14848856\n",
            " 0.14338235 0.14562908 0.15236928 0.15400327 0.14971405 0.1621732\n",
            " 0.16319444 0.16584967 0.15869047 0.15909034 0.15785511 0.15603745\n",
            " 0.15409273 0.15219934 0.15043166 0.14882198 0.14737941 0.14609718\n",
            " 0.14495808 0.14393935 0.14301673 0.14216734 0.14137165 0.14061421\n",
            " 0.1398838  0.13917319 0.13847825 0.1377973  0.13713025 0.13647804\n",
            " 0.13584183 0.13522282 0.13462192 0.13403954]\n",
            "25 day output [[0.13347565]]\n",
            "26 day input [0.17810458 0.17851307 0.19607843 0.18913399 0.18954248 0.19403595\n",
            " 0.19444444 0.20200163 0.19771242 0.19934641 0.19873366 0.1997549\n",
            " 0.2128268  0.21568627 0.20445261 0.21772876 0.21098856 0.21425654\n",
            " 0.19750817 0.18811275 0.17851307 0.17381536 0.16033497 0.16564542\n",
            " 0.17116013 0.17422386 0.18035131 0.17401961 0.16278595 0.16973039\n",
            " 0.17810458 0.17034314 0.16830065 0.17279412 0.17544935 0.18382353\n",
            " 0.19138072 0.18913399 0.19097222 0.17238562 0.16830065 0.1693219\n",
            " 0.17177288 0.16156046 0.14971405 0.1503268  0.15196078 0.14726307\n",
            " 0.14501634 0.14603758 0.12479575 0.13112745 0.11397059 0.1190768\n",
            " 0.12377451 0.13562092 0.12908497 0.13459967 0.12806373 0.13031046\n",
            " 0.12724673 0.13521242 0.14522059 0.15257353 0.14848856 0.14338235\n",
            " 0.14562908 0.15236928 0.15400327 0.14971405 0.1621732  0.16319444\n",
            " 0.16584967 0.15869047 0.15909034 0.15785511 0.15603745 0.15409273\n",
            " 0.15219934 0.15043166 0.14882198 0.14737941 0.14609718 0.14495808\n",
            " 0.14393935 0.14301673 0.14216734 0.14137165 0.14061421 0.1398838\n",
            " 0.13917319 0.13847825 0.1377973  0.13713025 0.13647804 0.13584183\n",
            " 0.13522282 0.13462192 0.13403954 0.13347565]\n",
            "26 day output [[0.13292979]]\n",
            "27 day input [0.17851307 0.19607843 0.18913399 0.18954248 0.19403595 0.19444444\n",
            " 0.20200163 0.19771242 0.19934641 0.19873366 0.1997549  0.2128268\n",
            " 0.21568627 0.20445261 0.21772876 0.21098856 0.21425654 0.19750817\n",
            " 0.18811275 0.17851307 0.17381536 0.16033497 0.16564542 0.17116013\n",
            " 0.17422386 0.18035131 0.17401961 0.16278595 0.16973039 0.17810458\n",
            " 0.17034314 0.16830065 0.17279412 0.17544935 0.18382353 0.19138072\n",
            " 0.18913399 0.19097222 0.17238562 0.16830065 0.1693219  0.17177288\n",
            " 0.16156046 0.14971405 0.1503268  0.15196078 0.14726307 0.14501634\n",
            " 0.14603758 0.12479575 0.13112745 0.11397059 0.1190768  0.12377451\n",
            " 0.13562092 0.12908497 0.13459967 0.12806373 0.13031046 0.12724673\n",
            " 0.13521242 0.14522059 0.15257353 0.14848856 0.14338235 0.14562908\n",
            " 0.15236928 0.15400327 0.14971405 0.1621732  0.16319444 0.16584967\n",
            " 0.15869047 0.15909034 0.15785511 0.15603745 0.15409273 0.15219934\n",
            " 0.15043166 0.14882198 0.14737941 0.14609718 0.14495808 0.14393935\n",
            " 0.14301673 0.14216734 0.14137165 0.14061421 0.1398838  0.13917319\n",
            " 0.13847825 0.1377973  0.13713025 0.13647804 0.13584183 0.13522282\n",
            " 0.13462192 0.13403954 0.13347565 0.13292979]\n",
            "27 day output [[0.13240123]]\n",
            "28 day input [0.19607843 0.18913399 0.18954248 0.19403595 0.19444444 0.20200163\n",
            " 0.19771242 0.19934641 0.19873366 0.1997549  0.2128268  0.21568627\n",
            " 0.20445261 0.21772876 0.21098856 0.21425654 0.19750817 0.18811275\n",
            " 0.17851307 0.17381536 0.16033497 0.16564542 0.17116013 0.17422386\n",
            " 0.18035131 0.17401961 0.16278595 0.16973039 0.17810458 0.17034314\n",
            " 0.16830065 0.17279412 0.17544935 0.18382353 0.19138072 0.18913399\n",
            " 0.19097222 0.17238562 0.16830065 0.1693219  0.17177288 0.16156046\n",
            " 0.14971405 0.1503268  0.15196078 0.14726307 0.14501634 0.14603758\n",
            " 0.12479575 0.13112745 0.11397059 0.1190768  0.12377451 0.13562092\n",
            " 0.12908497 0.13459967 0.12806373 0.13031046 0.12724673 0.13521242\n",
            " 0.14522059 0.15257353 0.14848856 0.14338235 0.14562908 0.15236928\n",
            " 0.15400327 0.14971405 0.1621732  0.16319444 0.16584967 0.15869047\n",
            " 0.15909034 0.15785511 0.15603745 0.15409273 0.15219934 0.15043166\n",
            " 0.14882198 0.14737941 0.14609718 0.14495808 0.14393935 0.14301673\n",
            " 0.14216734 0.14137165 0.14061421 0.1398838  0.13917319 0.13847825\n",
            " 0.1377973  0.13713025 0.13647804 0.13584183 0.13522282 0.13462192\n",
            " 0.13403954 0.13347565 0.13292979 0.13240123]\n",
            "28 day output [[0.1318889]]\n",
            "29 day input [0.18913399 0.18954248 0.19403595 0.19444444 0.20200163 0.19771242\n",
            " 0.19934641 0.19873366 0.1997549  0.2128268  0.21568627 0.20445261\n",
            " 0.21772876 0.21098856 0.21425654 0.19750817 0.18811275 0.17851307\n",
            " 0.17381536 0.16033497 0.16564542 0.17116013 0.17422386 0.18035131\n",
            " 0.17401961 0.16278595 0.16973039 0.17810458 0.17034314 0.16830065\n",
            " 0.17279412 0.17544935 0.18382353 0.19138072 0.18913399 0.19097222\n",
            " 0.17238562 0.16830065 0.1693219  0.17177288 0.16156046 0.14971405\n",
            " 0.1503268  0.15196078 0.14726307 0.14501634 0.14603758 0.12479575\n",
            " 0.13112745 0.11397059 0.1190768  0.12377451 0.13562092 0.12908497\n",
            " 0.13459967 0.12806373 0.13031046 0.12724673 0.13521242 0.14522059\n",
            " 0.15257353 0.14848856 0.14338235 0.14562908 0.15236928 0.15400327\n",
            " 0.14971405 0.1621732  0.16319444 0.16584967 0.15869047 0.15909034\n",
            " 0.15785511 0.15603745 0.15409273 0.15219934 0.15043166 0.14882198\n",
            " 0.14737941 0.14609718 0.14495808 0.14393935 0.14301673 0.14216734\n",
            " 0.14137165 0.14061421 0.1398838  0.13917319 0.13847825 0.1377973\n",
            " 0.13713025 0.13647804 0.13584183 0.13522282 0.13462192 0.13403954\n",
            " 0.13347565 0.13292979 0.13240123 0.1318889 ]\n",
            "29 day output [[0.13139167]]\n",
            "[[0.1590903401374817], [0.1578551083803177], [0.15603744983673096], [0.1540927290916443], [0.15219934284687042], [0.15043166279792786], [0.14882197976112366], [0.14737941324710846], [0.14609718322753906], [0.14495807886123657], [0.14393934607505798], [0.1430167257785797], [0.1421673446893692], [0.14137165248394012], [0.14061421155929565], [0.13988380134105682], [0.13917319476604462], [0.13847824931144714], [0.1377972960472107], [0.1371302455663681], [0.13647803664207458], [0.13584183156490326], [0.13522282242774963], [0.13462191820144653], [0.13403953611850739], [0.1334756463766098], [0.13292978703975677], [0.1324012279510498], [0.13188889622688293], [0.13139167428016663]]\n"
          ]
        }
      ]
    },
    {
      "cell_type": "code",
      "metadata": {
        "id": "IUqP9lo8_ppu"
      },
      "source": [
        "day_new=np.arange(1,101)\n",
        "day_pred=np.arange(101,131)"
      ],
      "execution_count": null,
      "outputs": []
    },
    {
      "cell_type": "code",
      "metadata": {
        "id": "rmCVEpDWun-j"
      },
      "source": [
        "import matplotlib.pyplot as plt"
      ],
      "execution_count": null,
      "outputs": []
    },
    {
      "cell_type": "code",
      "metadata": {
        "colab": {
          "base_uri": "https://localhost:8080/"
        },
        "id": "QyU7grV1uofn",
        "outputId": "1e353e58-0bb3-4434-e2bc-cf7b6c50f41e"
      },
      "source": [
        "len(df)"
      ],
      "execution_count": null,
      "outputs": [
        {
          "output_type": "execute_result",
          "data": {
            "text/plain": [
              "2035"
            ]
          },
          "metadata": {},
          "execution_count": 43
        }
      ]
    },
    {
      "cell_type": "code",
      "metadata": {
        "colab": {
          "base_uri": "https://localhost:8080/",
          "height": 282
        },
        "id": "nwm_YKDcuqmn",
        "outputId": "22805fd3-4996-4066-cde1-5111897adbb7"
      },
      "source": [
        "plt.plot(day_new,scaler.inverse_transform(df[1935:]))\n",
        "plt.plot(day_pred,scaler.inverse_transform(lst_output))"
      ],
      "execution_count": null,
      "outputs": [
        {
          "output_type": "execute_result",
          "data": {
            "text/plain": [
              "[<matplotlib.lines.Line2D at 0x7f80b92525d0>]"
            ]
          },
          "metadata": {},
          "execution_count": 47
        },
        {
          "output_type": "display_data",
          "data": {
            "image/png": "[encoded data removed]",
            "text/plain": [
              "<Figure size 432x288 with 1 Axes>"
            ]
          },
          "metadata": {
            "needs_background": "light"
          }
        }
      ]
    },
    {
      "cell_type": "code",
      "metadata": {
        "colab": {
          "base_uri": "https://localhost:8080/",
          "height": 282
        },
        "id": "PAQsHCBMuszA",
        "outputId": "a95d40ee-3eb0-4077-e966-5b653402a1a8"
      },
      "source": [
        "df3=df.tolist()\n",
        "df3.extend(lst_output)\n",
        "plt.plot(df3[1400:])\n",
        "\n"
      ],
      "execution_count": null,
      "outputs": [
        {
          "output_type": "execute_result",
          "data": {
            "text/plain": [
              "[<matplotlib.lines.Line2D at 0x7f80b6031e10>]"
            ]
          },
          "metadata": {},
          "execution_count": 54
        },
        {
          "output_type": "display_data",
          "data": {
            "image/png": "[encoded data removed]",
            "text/plain": [
              "<Figure size 432x288 with 1 Axes>"
            ]
          },
          "metadata": {
            "needs_background": "light"
          }
        }
      ]
    },
    {
      "cell_type": "code",
      "metadata": {
        "colab": {
          "base_uri": "https://localhost:8080/",
          "height": 282
        },
        "id": "s7EvcgSjw-nz",
        "outputId": "aca21e5d-7ceb-49e9-d965-91857982e82d"
      },
      "source": [
        "df3=scaler.inverse_transform(df3).tolist()\n",
        "\n",
        "plt.plot(df3)"
      ],
      "execution_count": null,
      "outputs": [
        {
          "output_type": "execute_result",
          "data": {
            "text/plain": [
              "[<matplotlib.lines.Line2D at 0x7f80b5f24290>]"
            ]
          },
          "metadata": {},
          "execution_count": 56
        },
        {
          "output_type": "display_data",
          "data": {
            "image/png": "[encoded data removed]",
            "text/plain": [
              "<Figure size 432x288 with 1 Axes>"
            ]
          },
          "metadata": {
            "needs_background": "light"
          }
        }
      ]
    },
    {
      "cell_type": "code",
      "metadata": {
        "id": "E1R76YFjxROI"
      },
      "source": [
        ""
      ],
      "execution_count": null,
      "outputs": []
    },
    {
      "cell_type": "code",
      "metadata": {
        "id": "_xHtIXkGQcpC"
      },
      "source": [
        ""
      ],
      "execution_count": null,
      "outputs": []
    }
  ]
}